{
 "cells": [
  {
   "cell_type": "markdown",
   "metadata": {},
   "source": [
    "<div class=\"alert alert-block alert-info\">\n",
    "<h3>Student Information</h3> Please provide information about yourself.<br>\n",
    "<b>Name</b>: Danling Sun<br>\n",
    "<b>NetID</b>: ds1457<br>\n",
    "<b>Recitation (Mon-1/Fri-2)</b>: 2<br>\n",
    "<b>Notes to Grader</b> (optional):<br>\n",
    "<br><br>\n",
    "<b>IMPORTANT</b>\n",
    "Your work will not be graded withour your initials below<br>\n",
    "I certify that this lab represents my own work and I have read the RU academic intergrity policies at<br>\n",
    "<a href=\"https://www.cs.rutgers.edu/academic-integrity/introduction\">https://www.cs.rutgers.edu/academic-integrity/introduction </a><br>\n",
    "<b>Initials</b>:      (eg: DC for Dingbang Chen)\n",
    "\n",
    "\n",
    "<h3>Grader Notes</h3>\n",
    "<b>Your Grade<b>:<br>\n",
    "<b>Grader Initials</b>:<br>\n",
    "<b>Grader Comments</b> (optional):<br>\n",
    "</div>\n",
    "\n",
    "### CS 439 - Introduction to Data Science\n",
    "### Spring 2019\n",
    "\n",
    "# Lab 5: Image Processing\n",
    "\n",
    "### Due Date : Monday March 3, 2019 by 11:59 PM.###\n",
    "\n",
    "\n",
    "### About the Lab\n",
    "Any given image can be considered as a matrix of pixels where each pixel contains (R,G,B) values between 0-255. Each color is represented as an unsigned 8-bit integer. In this lab, we will learn how to read an image into an ndarray or data frame and manipulate that Frame to do some interesting operations on the image. We will also learn how to do low rank estimations using Singular Value Decomposition. You will learn how to find a low rank estimations for a given image and use concepts such as Singular Value Decomposition and/or Principal Component Analysis (PCA) to understand more about the image structure.\n"
   ]
  },
  {
   "cell_type": "markdown",
   "metadata": {},
   "source": [
    "## Part 1 - Pre-processing of an image  (15 points)\n",
    "In this part of the lab, we learn how to read an image into a ndarray and manipulate them using various techniques. So let's get started. First to make things simpler, we will initialize the two test images that you can test the code with. As a starter, you are provided with the images, guna-2014.jpg and robot.jpg, but you are encouraged to test the code with many different jpg images.\n",
    "\n",
    "IMPORTANT: The row and column dimensions of the two images must be the same. If not, you can use paint or other tools to rescale your test images."
   ]
  },
  {
   "cell_type": "code",
   "execution_count": null,
   "metadata": {},
   "outputs": [],
   "source": [
    "# This will help test the code with different test images\n",
    "image1 = 'data/guna_2014.jpg'\n",
    "image2 = 'data/robot_2.jpg'"
   ]
  },
  {
   "cell_type": "markdown",
   "metadata": {},
   "source": [
    "### Task 1.1  Reading the image\n",
    "In this first task, we would like you to read any jpg image into an ndarray using matplotlib.image.imread. Using matplotlib.pyplot.plt.imshow, you should be able to show the image on your notebook. Also print the dimensions of the image and type of the image in the notebook as shown. Please use your own image and other images for testing this. We will use many random images to see if your algorithm is correct. Both images must be the same dimensions."
   ]
  },
  {
   "cell_type": "code",
   "execution_count": null,
   "metadata": {},
   "outputs": [],
   "source": [
    "### BEGIN SOLUTION\n",
    "import matplotlib.pyplot as plt\n",
    "import matplotlib.image as mpimg\n",
    "import numpy as np\n",
    "img1 = mpimg.imread(image1)\n",
    "img2 = mpimg.imread(image2)\n",
    "print(img1.shape)\n",
    "plt.imshow(img1)\n",
    "\n",
    "### END SOLUTION"
   ]
  },
  {
   "cell_type": "markdown",
   "metadata": {},
   "source": [
    "### Task 1.2 Splitting the image into Red, Green and Blue portions.\n",
    "The shape and type of the image should indicate that it is a 3D ndarray (row,col,color). The color is an array (R,G,B) where each color is represented by 1 byte (unsigned with range 0-225). In order to perform matrix operatins, we need to split the image into Red, Green and Blue components. Note that you still need to keep the image as a 3D array to plot. But you can make two of the component zero when plotting a specific color. Write the code to split the image into R, G and B and show the images as shown below."
   ]
  },
  {
   "cell_type": "markdown",
   "metadata": {},
   "source": [
    "#### Red image"
   ]
  },
  {
   "cell_type": "code",
   "execution_count": null,
   "metadata": {},
   "outputs": [],
   "source": [
    "## TASK 1.2.1 Display the image using only the RED pixel values\n",
    "## BEGIN SOLUTION\n",
    "\n",
    "red_img = np.zeros(shape=img1.shape,dtype=np.uint8)\n",
    "red_img[:,:,0] = img1[:,:,0]\n",
    "\n",
    "plt.imshow(red_img)\n",
    "## END SOLUTION"
   ]
  },
  {
   "cell_type": "markdown",
   "metadata": {},
   "source": [
    "#### Green image"
   ]
  },
  {
   "cell_type": "code",
   "execution_count": null,
   "metadata": {},
   "outputs": [],
   "source": [
    "## TASK 1.2.2 Display the image using only the GREEN pixel values\n",
    "## BEGIN SOLUTION\n",
    "\n",
    "green_img = np.zeros(shape=img1.shape,dtype=np.uint8)\n",
    "green_img[:,:,1] = img1[:,:,1]\n",
    "plt.imshow(green_img)\n",
    "## END SOLUTION"
   ]
  },
  {
   "cell_type": "markdown",
   "metadata": {},
   "source": [
    "#### Blue image"
   ]
  },
  {
   "cell_type": "code",
   "execution_count": null,
   "metadata": {},
   "outputs": [],
   "source": [
    "## TASK 1.2.3 Display the image using only the BLUE pixel values\n",
    "## BEGIN SOLUTION\n",
    "\n",
    "blue_img = np.zeros(shape=img1.shape,dtype=np.uint8)\n",
    "blue_img[:,:,2] = img1[:,:,2]\n",
    "plt.imshow(blue_img)\n",
    "## END SOLUTION"
   ]
  },
  {
   "cell_type": "markdown",
   "metadata": {},
   "source": [
    "## Part 2 - Transforming images  (15 points)\n",
    "In this part, we will use linear combinations of two images to transform one image to another. Given two images A and B, define a linear combination of the images as : p.A + (1-p).B  where p is a value (think of p as a probability) between 0 and 1. For example, if p = 0, then we only show image B, and if p=1, then we only show image A. For all other values of p, the two images are transposed on each other. When p is closer to 0, you will mostly notice image B, and if p is closer to 1, you will mostly notice image A. When p is in the middle, the intensity of the pixles will be equally divided between the two images.\n",
    "In this case, define the matrix p A as, each entry of A is multiplied (or scaled by) p"
   ]
  },
  {
   "cell_type": "markdown",
   "metadata": {},
   "source": [
    "### Task 2.1\n",
    "First we will learn how to scale an image by some value p that is between 0 and 1. Write the code to form the matrix p.A for any p, and plot the image. Start with p=0.5 and change it to see how the intensity of the image changes."
   ]
  },
  {
   "cell_type": "code",
   "execution_count": null,
   "metadata": {},
   "outputs": [],
   "source": [
    "## BEGIN SOLUTION\n",
    "import numpy as np\n",
    "\n",
    "p = 0.5\n",
    "p_img1 = np.array(np.multiply(img1,p),dtype=np.uint8)\n",
    "plt.imshow(p_img1)   \n",
    "\n",
    "## END SOLUTION"
   ]
  },
  {
   "cell_type": "markdown",
   "metadata": {},
   "source": [
    "### Task 2.2 Reading the second image and scaling\n",
    "Use image2 to form the matrix (1-p).B for any p, and plot. Start with p=0.5 and change it (increase/decrease) between 0 and 1 to see how the intensity of the image changes. What if p > 1 or p < 0 ? How will you interpret it?  Also show the type of array and dimensions to make sure both images have the same dimensions (in order to superimpose of them properly)"
   ]
  },
  {
   "cell_type": "code",
   "execution_count": null,
   "metadata": {},
   "outputs": [],
   "source": [
    "## BEGIN SOLUTION\n",
    "p = 0.6\n",
    "p_img2 = np.array(np.multiply(img2,1-p),dtype=np.uint8)\n",
    "print(p_img2.shape)\n",
    "imgplot = plt.imshow(p_img2)\n",
    "## END SOLUTION"
   ]
  },
  {
   "cell_type": "markdown",
   "metadata": {},
   "source": [
    "### Task 2.3 overlay images on each other. \n",
    "Overlay the two images and plot the combined image again. The matrix addition can help here."
   ]
  },
  {
   "cell_type": "code",
   "execution_count": null,
   "metadata": {},
   "outputs": [],
   "source": [
    "## BEGIN SOLUTION\n",
    "p = 0.5\n",
    "p_img1 = np.array(np.multiply(img1,p),dtype=np.uint8)\n",
    "p_img2 = np.array(np.multiply(img2,1-p),dtype=np.uint8)\n",
    "add_img = np.add(p_img1,p_img2)\n",
    "plt.imshow(add_img)\n",
    "\n",
    "## END SOLUTION"
   ]
  },
  {
   "cell_type": "markdown",
   "metadata": {},
   "source": [
    "### Task 2.4 Interactive panel design\n",
    "Now we will use a widget to create an interactive panel that will allow you to experiment with the superimposed images."
   ]
  },
  {
   "cell_type": "code",
   "execution_count": null,
   "metadata": {},
   "outputs": [],
   "source": [
    "# Initialize the widget\n",
    "from ipywidgets import interact,widgets\n",
    "!jupyter nbextension enable --py widgetsnbextension"
   ]
  },
  {
   "cell_type": "markdown",
   "metadata": {},
   "source": [
    "### Define a function f \n",
    "The function f, takes alpha (which we called p before) and allow you to experiment with how the superimposed images changes as alpha changes. You will be able to drag the value between 0 and 1 to see how things change. With alpha = 0, you will get only one image, and with alpha = 1, you will get only the other image. The values of alpha between 0 and 1 will produce an image with varying domination by one image. Alpha = 0.5 is the equilibrium point, where each image is weighed equally."
   ]
  },
  {
   "cell_type": "code",
   "execution_count": null,
   "metadata": {},
   "outputs": [],
   "source": [
    "##  BEGIN SOLUTION\n",
    "def f(alpha):\n",
    "    p_img1 = np.array(np.multiply(img1,alpha),dtype=np.uint8)\n",
    "    p_img2 = np.array(np.multiply(img2,1-alpha),dtype=np.uint8)\n",
    "    add_img = np.add(p_img1,p_img2)\n",
    "    plt.imshow(add_img)\n",
    "\n",
    "##  END SOLUTION\n",
    "interact(f, alpha=(0,1,0.1));"
   ]
  },
  {
   "cell_type": "markdown",
   "metadata": {},
   "source": [
    "## Part 3 - Application of Singular Value Decomposition  (15 points)\n",
    "Singular value decomposition or SVD allows us to approximate the image using fewer bits of information about the structure of the image matrix. A readings on this method can be found from an excerpt of the linear algebra book by Jain and Gunawardena. (to be posted soon)\n",
    "\n",
    "The singular value decomposition allows us to approximate a matrix using its decomposition into three matrices A = U S V^T\n",
    "where U and V are orthogonal matrices and S is a diagonal matrix with singular values (V^T indicates the transpose of matrix V). The singular values are the eigen values of the matrix A A^T."
   ]
  },
  {
   "cell_type": "markdown",
   "metadata": {},
   "source": [
    "### Task 3.1 Representation of matrices as 2D\n",
    "Prior to applying SVD to our image matrix, we need to transform the individual 3D matrices into 2D matrices. Basically, we can view any color component as color densities of one color and ignore the color dimension when we are transforming from 3D to 2D."
   ]
  },
  {
   "cell_type": "code",
   "execution_count": null,
   "metadata": {},
   "outputs": [],
   "source": [
    "# transform the RED, GREEN, BLUE matrices into a 2D matrices of red, green, blue color density\n",
    "# BEGIN SOLUTION\n",
    "# create three 2D matrices (int type) each for colors, R, G, B. Be sure to match the \n",
    "# dimensions of the image matrix\n",
    "\n",
    "R = img1[:,:,0]\n",
    "G = img1[:,:,1]\n",
    "B = img1[:,:,2]\n",
    "\n",
    "# copy the corresponding values from 3D image matrix\n",
    "\n",
    "\n",
    "\n",
    "# END SOLUTION\n",
    "\n",
    "print(R, G, B)"
   ]
  },
  {
   "cell_type": "markdown",
   "metadata": {},
   "source": [
    "### Task 3.1 Finding Singular values and Orthogonal matrices\n",
    "Find the singular value decomposition of matrices R, G, B. List the singular values (S) and the orthogonal matrices (U, V) for colors R,G,B as (UR,sR, VhR), (UG,sG, VhG), (UB,sB, VhB).  "
   ]
  },
  {
   "cell_type": "code",
   "execution_count": null,
   "metadata": {},
   "outputs": [],
   "source": [
    "# BEGIN SOLUTION\n",
    "from scipy import linalg\n",
    "UR, sR, VhR = linalg.svd(R)\n",
    "UG, sG, VhG = linalg.svd(G)\n",
    "UB, sB, VhB = linalg.svd(B)\n",
    "\n",
    "# END SOLUTION\n",
    "print(sR, sG, sB)"
   ]
  },
  {
   "cell_type": "markdown",
   "metadata": {},
   "source": [
    "### Task 3.2 Finding a rank-1 approximation\n",
    "A rank 1 approximation (starting with the highest eigenvalue lambda_1) \n",
    "can be done using $\\lambda_{1}*u_1*v_1^T$ where $u_1$ and $v_1$ are column vectors. These column vectors are the first columns of the orthogonal matrices U and V, that are part of the SVD. We note that the multiplication of a column vector by a row vector in fact produces an approximated matrix."
   ]
  },
  {
   "cell_type": "code",
   "execution_count": null,
   "metadata": {},
   "outputs": [],
   "source": [
    "## Find the rank-1 approximation and show the image generated by it.\n",
    "## BEGIN SOLUTION\n",
    "\n",
    "h = np.size(img1,0)\n",
    "w = np.size(img1,1)\n",
    "r_col_vectorU = UR[:,0].reshape(h,1)\n",
    "r_vectorV = VhR.T[:,0].reshape(1,w)\n",
    "g_col_vectorU = UG[:,0].reshape(h,1)\n",
    "g_vectorV = VhG.T[:,0].reshape(1,w)\n",
    "b_col_vectorU = UB[:,0].reshape(h,1)\n",
    "b_vectorV = VhB.T[:,0].reshape(1,w)\n",
    "r_rank1 = sR[0] * r_col_vectorU * r_vectorV\n",
    "g_rank1 = sG[0] * g_col_vectorU * g_vectorV\n",
    "b_rank1 = sB[0] * b_col_vectorU * b_vectorV\n",
    "\n",
    "\n",
    "img_appro = np.zeros(shape=(h,w,3),dtype=np.uint8)\n",
    "img_appro[:,:,0] = r_rank1\n",
    "img_appro[:,:,1] = g_rank1\n",
    "img_appro[:,:,2] = b_rank1\n",
    "plt.imshow(img_appro)\n",
    "\n",
    "## END SOLUTION"
   ]
  },
  {
   "cell_type": "markdown",
   "metadata": {},
   "source": [
    "### Task 3.2 Finding a rank-2 approximation\n",
    "A rank 2 approximation add another term to the rank_1 approximation as follows. If the second largest eigen value is lambda_2, then we have the approximation as  $\\lambda_{1}*u_1*v_1^T + \\lambda_{2}*u_2*v_2^T$ where $u_1, u_2$ and $v_1, v_2$ are column vectors"
   ]
  },
  {
   "cell_type": "code",
   "execution_count": null,
   "metadata": {},
   "outputs": [],
   "source": [
    "## Find the rank-2 approximation and show the image generated by it.\n",
    "## BEGIN SOLUTION\n",
    "r_col_vectorU = UR[:,1].reshape(h,1)\n",
    "r_vectorV = VhR.T[:,1].reshape(1,w)\n",
    "g_col_vectorU = UG[:,1].reshape(h,1)\n",
    "g_vectorV = VhG.T[:,1].reshape(1,w)\n",
    "b_col_vectorU = UB[:,1].reshape(h,1)\n",
    "b_vectorV = VhB.T[:,1].reshape(1,w)\n",
    "r_rank2 = sR[1] * r_col_vectorU * r_vectorV\n",
    "g_rank2 = sG[1] * g_col_vectorU * g_vectorV\n",
    "b_rank2 = sB[1] * b_col_vectorU * b_vectorV\n",
    "\n",
    "img_appro = np.zeros(shape=(h,w,3),dtype=np.uint8)\n",
    "img_appro[:,:,0] = r_rank1 + r_rank2\n",
    "img_appro[:,:,1] = g_rank1 + g_rank2\n",
    "img_appro[:,:,2] = b_rank1 + b_rank2\n",
    "plt.imshow(img_appro)\n",
    "\n",
    "## END SOLUTION"
   ]
  },
  {
   "cell_type": "markdown",
   "metadata": {},
   "source": [
    "### Task 3.2 Finding a rank-k approximation\n",
    "A rank k approximation is the sum of first k-terms of rank approximations. For example, if u[i] and v[i] are the i-th column vectors, and lambda_i is the i-th largest eigen value, then we have the approximation as \n",
    "$ \\sum \\lambda_{i}*u_i*v_i^T, i=1,2,...k$\n",
    "Start with any k (including k=1 and k=2) to see if you get the same outcomes as above, and then changing it until you get a clearer image. You can play with k to see which one gives you a better approximation. The following is the image when k = 10"
   ]
  },
  {
   "cell_type": "code",
   "execution_count": null,
   "metadata": {},
   "outputs": [],
   "source": [
    "## Find the rank-k approximation and show the image generated by it.\n",
    "## BEGIN SOLUTION\n",
    "k = 10\n",
    "r_rank = np.zeros(shape=(h,w))\n",
    "g_rank = np.zeros(shape=(h,w))\n",
    "b_rank = np.zeros(shape=(h,w))\n",
    "for i in range(k):\n",
    "    r_col_vectorU = UR[:,i].reshape(h,1)\n",
    "    r_vectorV = VhR.T[:,i].reshape(1,w)\n",
    "    g_col_vectorU = UG[:,i].reshape(h,1)\n",
    "    g_vectorV = VhG.T[:,i].reshape(1,w)\n",
    "    b_col_vectorU = UB[:,i].reshape(h,1)\n",
    "    b_vectorV = VhB.T[:,i].reshape(1,w)\n",
    "    r_rank = r_rank + sR[i] * r_col_vectorU * r_vectorV\n",
    "    g_rank = g_rank + sG[i] * g_col_vectorU * g_vectorV\n",
    "    b_rank = b_rank + sB[i] * b_col_vectorU * b_vectorV\n",
    "img_appro = np.zeros(shape=(h,w,3),dtype=np.uint8)\n",
    "img_appro[:,:,0] = r_rank\n",
    "img_appro[:,:,1] = g_rank\n",
    "img_appro[:,:,2] = b_rank\n",
    "plt.imshow(img_appro)\n",
    "## END SOLUTION"
   ]
  },
  {
   "cell_type": "markdown",
   "metadata": {},
   "source": [
    "## Part 3 - Open Ended Question  (points 5)\n",
    "The SVD method we learned here can be viewed as a form of image compression. That is, instead of using all pixles of an m x n image matrix, we can use a few eigen vlaues and vectors to form an approximation to the original matrix. What would be a possible application of this idea? \n",
    "Hint: There can be many. So any reasonable answer is fine. Write the answer in the cell below. Be as creative as possible."
   ]
  },
  {
   "cell_type": "code",
   "execution_count": null,
   "metadata": {},
   "outputs": [],
   "source": [
    "### BEGIN ANSWER\n",
    "\n",
    "    \n",
    "# ANS：\n",
    "# The method of the singular value decomposition (SVD) of matrixes reflects the inwardness and essence character \n",
    "# of the images, so it has wide application in the image processing. The idea can apply to some appilcations like \n",
    "# making process on the watermark in image, image reconstruction.Since Singular Value Decomposition (SVD) is \n",
    "# a dimension reduction method, so it can use in encrypt and decrypt. \n",
    "\n",
    "### END ANSWER"
   ]
  },
  {
   "cell_type": "markdown",
   "metadata": {},
   "source": [
    "### Feedback\n",
    "Please provide feedback on this lab.\n",
    "* how would you rate this lab (from 1-10, 10-highest) :\n",
    "* how can we improve his lab? :"
   ]
  },
  {
   "cell_type": "markdown",
   "metadata": {},
   "source": [
    "<div class=\"alert alert-block alert-info\">\n",
    "<h2>Submission Instructions</h2> \n",
    "<b> File Name:</b> Please name the file as your_section_your_netID_Lab5.jpynb<br>\n",
    "<b> Submit To: </b> Canvas &rarr; Assignments &rarr; Lab5 <br>\n",
    "<b>Warning:</b> Failure to follow directions may result in loss points.<br>\n",
    "</div>"
   ]
  },
  {
   "cell_type": "markdown",
   "metadata": {},
   "source": [
    "##### Lab developed by A.D. Gunawardena @ 2019"
   ]
  }
 ],
 "metadata": {
  "kernelspec": {
   "display_name": "Python 3",
   "language": "python",
   "name": "python3"
  },
  "language_info": {
   "codemirror_mode": {
    "name": "ipython",
    "version": 3
   },
   "file_extension": ".py",
   "mimetype": "text/x-python",
   "name": "python",
   "nbconvert_exporter": "python",
   "pygments_lexer": "ipython3",
   "version": "3.7.3"
  }
 },
 "nbformat": 4,
 "nbformat_minor": 2
}
