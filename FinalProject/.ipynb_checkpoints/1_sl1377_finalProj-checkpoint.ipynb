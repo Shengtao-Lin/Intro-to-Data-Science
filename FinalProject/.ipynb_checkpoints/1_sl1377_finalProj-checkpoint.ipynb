{
 "cells": [
  {
   "cell_type": "markdown",
   "metadata": {},
   "source": [
    "<div class=\"alert alert-block alert-info\">\n",
    "<h3>Student Information</h3> Please provide information about yourself.<br>\n",
    "<b>Name</b>:Shengtao Lin<br>\n",
    "<b>NetID</b>:sl1377<br>\n",
    "<b>Notes to Grader</b> (optional):<br>\n",
    "<br><br>\n",
    "<b>IMPORTANT</b>\n",
    "Your work will not be graded withour your initials below<br>\n",
    "I certify that this lab represents my own work and I have read the RU academic intergrity policies at<br>\n",
    "<a href=\"https://www.cs.rutgers.edu/academic-integrity/introduction\">https://www.cs.rutgers.edu/academic-integrity/introduction </a><br>\n",
    "<b>Initials</b>: SL    \n",
    "\n",
    "\n",
    "<h3>Grader Notes</h3>\n",
    "<b>Your Grade<b>:<br>\n",
    "<b>Grader Initials</b>:<br>\n",
    "<b>Grader Comments</b> (optional):<br>\n",
    "</div>"
   ]
  },
  {
   "cell_type": "markdown",
   "metadata": {},
   "source": [
    "# Final Project: Deep Learning with TensorFlow\n",
    "\n",
    "** This final project is due December 10, 2019 at 11:59pm (graded on accuracy and completeness) **\n",
    "\n",
    "In this project we will work through the process of:\n",
    "1. installing TensorFlow in your local environment\n",
    "2. Learn some basics of how to use TensorFlow API\n",
    "3. Implement a classical linear regression model with TensorFlow\n",
    "4. Implement a k-means for clustering images\n",
    "5. Import and Train a model with FashionNIST dataset \n",
    "6. Predict new images based on the trained model\n",
    "\n",
    "This project should give you some basic knowledge on how to work with deep learning systems. Although we do not implement any neural networks from scratch in this lab, it is also important for you to have an understanding of how neural networks work.Please refer to classnotes to see how neural networks are trained. In this project we will use existing libraries, but by selecting and tuning parameters."
   ]
  },
  {
   "cell_type": "markdown",
   "metadata": {},
   "source": [
    "# Part 0 - Install TensorFlow\n",
    "This is our first experience with deep learning methods. We need to set things up first. Execute the lines below to get the setup going. Set up only needs to be done once."
   ]
  },
  {
   "cell_type": "code",
   "execution_count": 1,
   "metadata": {},
   "outputs": [
    {
     "name": "stdout",
     "output_type": "stream",
     "text": [
      "Collecting numpy\n",
      "\u001b[?25l  Downloading https://files.pythonhosted.org/packages/60/9a/a6b3168f2194fb468dcc4cf54c8344d1f514935006c3347ede198e968cb0/numpy-1.17.4-cp37-cp37m-macosx_10_9_x86_64.whl (15.1MB)\n",
      "\u001b[K     |████████████████████████████████| 15.1MB 5.3MB/s eta 0:00:01\n",
      "\u001b[?25hInstalling collected packages: numpy\n",
      "  Found existing installation: numpy 1.16.4\n",
      "    Uninstalling numpy-1.16.4:\n",
      "      Successfully uninstalled numpy-1.16.4\n",
      "Successfully installed numpy-1.17.4\n"
     ]
    }
   ],
   "source": [
    "# Task 0.1. tf requires a numpy update\n",
    "!pip install numpy --upgrade"
   ]
  },
  {
   "cell_type": "code",
   "execution_count": 1,
   "metadata": {},
   "outputs": [
    {
     "name": "stdout",
     "output_type": "stream",
     "text": [
      "Requirement already satisfied: tensorflow==1.14.0 in /Users/LINHTS/.local/lib/python3.7/site-packages (1.14.0)\n",
      "Requirement already satisfied: tensorflow-estimator<1.15.0rc0,>=1.14.0rc0 in /Users/LINHTS/.local/lib/python3.7/site-packages (from tensorflow==1.14.0) (1.14.0)\n",
      "Requirement already satisfied: wrapt>=1.11.1 in /Users/LINHTS/anaconda3/lib/python3.7/site-packages (from tensorflow==1.14.0) (1.11.2)\n",
      "Requirement already satisfied: google-pasta>=0.1.6 in /Users/LINHTS/.local/lib/python3.7/site-packages (from tensorflow==1.14.0) (0.1.8)\n",
      "Requirement already satisfied: six>=1.10.0 in /Users/LINHTS/anaconda3/lib/python3.7/site-packages (from tensorflow==1.14.0) (1.12.0)\n",
      "Requirement already satisfied: termcolor>=1.1.0 in /Users/LINHTS/.local/lib/python3.7/site-packages (from tensorflow==1.14.0) (1.1.0)\n",
      "Requirement already satisfied: grpcio>=1.8.6 in /Users/LINHTS/.local/lib/python3.7/site-packages (from tensorflow==1.14.0) (1.25.0)\n",
      "Requirement already satisfied: keras-applications>=1.0.6 in /Users/LINHTS/.local/lib/python3.7/site-packages (from tensorflow==1.14.0) (1.0.8)\n",
      "Requirement already satisfied: absl-py>=0.7.0 in /Users/LINHTS/.local/lib/python3.7/site-packages (from tensorflow==1.14.0) (0.8.1)\n",
      "Requirement already satisfied: astor>=0.6.0 in /Users/LINHTS/.local/lib/python3.7/site-packages (from tensorflow==1.14.0) (0.8.0)\n",
      "Requirement already satisfied: keras-preprocessing>=1.0.5 in /Users/LINHTS/.local/lib/python3.7/site-packages (from tensorflow==1.14.0) (1.1.0)\n",
      "Requirement already satisfied: numpy<2.0,>=1.14.5 in /Users/LINHTS/anaconda3/lib/python3.7/site-packages (from tensorflow==1.14.0) (1.17.4)\n",
      "Requirement already satisfied: tensorboard<1.15.0,>=1.14.0 in /Users/LINHTS/.local/lib/python3.7/site-packages (from tensorflow==1.14.0) (1.14.0)\n",
      "Requirement already satisfied: gast>=0.2.0 in /Users/LINHTS/.local/lib/python3.7/site-packages (from tensorflow==1.14.0) (0.3.2)\n",
      "Requirement already satisfied: protobuf>=3.6.1 in /Users/LINHTS/.local/lib/python3.7/site-packages (from tensorflow==1.14.0) (3.11.1)\n",
      "Requirement already satisfied: wheel>=0.26 in /Users/LINHTS/anaconda3/lib/python3.7/site-packages (from tensorflow==1.14.0) (0.33.4)\n",
      "Requirement already satisfied: h5py in /Users/LINHTS/anaconda3/lib/python3.7/site-packages (from keras-applications>=1.0.6->tensorflow==1.14.0) (2.9.0)\n",
      "Requirement already satisfied: markdown>=2.6.8 in /Users/LINHTS/.local/lib/python3.7/site-packages (from tensorboard<1.15.0,>=1.14.0->tensorflow==1.14.0) (3.1.1)\n",
      "Requirement already satisfied: werkzeug>=0.11.15 in /Users/LINHTS/anaconda3/lib/python3.7/site-packages (from tensorboard<1.15.0,>=1.14.0->tensorflow==1.14.0) (0.15.4)\n",
      "Requirement already satisfied: setuptools>=41.0.0 in /Users/LINHTS/anaconda3/lib/python3.7/site-packages (from tensorboard<1.15.0,>=1.14.0->tensorflow==1.14.0) (41.0.1)\n"
     ]
    }
   ],
   "source": [
    "import sys\n",
    "\n",
    "sys.executable\n",
    "\n",
    "!/Users/LINHTS/anaconda3/bin/python -m pip install tensorflow==1.14.0"
   ]
  },
  {
   "cell_type": "code",
   "execution_count": 9,
   "metadata": {},
   "outputs": [
    {
     "name": "stdout",
     "output_type": "stream",
     "text": [
      "Requirement already satisfied: tensorflow==1.14.0 in /Users/LINHTS/.local/lib/python3.7/site-packages (1.14.0)\n",
      "Requirement already satisfied: keras-applications>=1.0.6 in /Users/LINHTS/.local/lib/python3.7/site-packages (from tensorflow==1.14.0) (1.0.8)\n",
      "Requirement already satisfied: six>=1.10.0 in /Users/LINHTS/anaconda3/lib/python3.7/site-packages (from tensorflow==1.14.0) (1.12.0)\n",
      "Requirement already satisfied: absl-py>=0.7.0 in /Users/LINHTS/.local/lib/python3.7/site-packages (from tensorflow==1.14.0) (0.8.1)\n",
      "Requirement already satisfied: grpcio>=1.8.6 in /Users/LINHTS/.local/lib/python3.7/site-packages (from tensorflow==1.14.0) (1.25.0)\n",
      "Requirement already satisfied: astor>=0.6.0 in /Users/LINHTS/.local/lib/python3.7/site-packages (from tensorflow==1.14.0) (0.8.0)\n",
      "Requirement already satisfied: gast>=0.2.0 in /Users/LINHTS/.local/lib/python3.7/site-packages (from tensorflow==1.14.0) (0.3.2)\n",
      "Requirement already satisfied: tensorboard<1.15.0,>=1.14.0 in /Users/LINHTS/.local/lib/python3.7/site-packages (from tensorflow==1.14.0) (1.14.0)\n",
      "Requirement already satisfied: keras-preprocessing>=1.0.5 in /Users/LINHTS/.local/lib/python3.7/site-packages (from tensorflow==1.14.0) (1.1.0)\n",
      "Requirement already satisfied: protobuf>=3.6.1 in /Users/LINHTS/.local/lib/python3.7/site-packages (from tensorflow==1.14.0) (3.11.1)\n",
      "Requirement already satisfied: tensorflow-estimator<1.15.0rc0,>=1.14.0rc0 in /Users/LINHTS/.local/lib/python3.7/site-packages (from tensorflow==1.14.0) (1.14.0)\n",
      "Requirement already satisfied: wrapt>=1.11.1 in /Users/LINHTS/anaconda3/lib/python3.7/site-packages (from tensorflow==1.14.0) (1.11.2)\n",
      "Requirement already satisfied: google-pasta>=0.1.6 in /Users/LINHTS/.local/lib/python3.7/site-packages (from tensorflow==1.14.0) (0.1.8)\n",
      "Requirement already satisfied: wheel>=0.26 in /Users/LINHTS/anaconda3/lib/python3.7/site-packages (from tensorflow==1.14.0) (0.33.4)\n",
      "Requirement already satisfied: numpy<2.0,>=1.14.5 in /Users/LINHTS/anaconda3/lib/python3.7/site-packages (from tensorflow==1.14.0) (1.17.4)\n",
      "Requirement already satisfied: termcolor>=1.1.0 in /Users/LINHTS/.local/lib/python3.7/site-packages (from tensorflow==1.14.0) (1.1.0)\n",
      "Requirement already satisfied: h5py in /Users/LINHTS/anaconda3/lib/python3.7/site-packages (from keras-applications>=1.0.6->tensorflow==1.14.0) (2.9.0)\n",
      "Requirement already satisfied: setuptools>=41.0.0 in /Users/LINHTS/anaconda3/lib/python3.7/site-packages (from tensorboard<1.15.0,>=1.14.0->tensorflow==1.14.0) (41.0.1)\n",
      "Requirement already satisfied: markdown>=2.6.8 in /Users/LINHTS/.local/lib/python3.7/site-packages (from tensorboard<1.15.0,>=1.14.0->tensorflow==1.14.0) (3.1.1)\n",
      "Requirement already satisfied: werkzeug>=0.11.15 in /Users/LINHTS/anaconda3/lib/python3.7/site-packages (from tensorboard<1.15.0,>=1.14.0->tensorflow==1.14.0) (0.15.4)\n"
     ]
    }
   ],
   "source": [
    "# Task 0.2. install tensorflow\n",
    "\n",
    "!pip install --user tensorflow==1.14.0 # you can also specify what version of TF you need."
   ]
  },
  {
   "cell_type": "code",
   "execution_count": 4,
   "metadata": {},
   "outputs": [
    {
     "name": "stdout",
     "output_type": "stream",
     "text": [
      "Collecting keras\n",
      "\u001b[?25l  Downloading https://files.pythonhosted.org/packages/ad/fd/6bfe87920d7f4fd475acd28500a42482b6b84479832bdc0fe9e589a60ceb/Keras-2.3.1-py2.py3-none-any.whl (377kB)\n",
      "\u001b[K     |████████████████████████████████| 378kB 767kB/s eta 0:00:01\n",
      "\u001b[?25hRequirement already satisfied, skipping upgrade: keras-applications>=1.0.6 in /Users/LINHTS/.local/lib/python3.7/site-packages (from keras) (1.0.8)\n",
      "Requirement already satisfied, skipping upgrade: six>=1.9.0 in /Users/LINHTS/anaconda3/lib/python3.7/site-packages (from keras) (1.12.0)\n",
      "Requirement already satisfied, skipping upgrade: keras-preprocessing>=1.0.5 in /Users/LINHTS/.local/lib/python3.7/site-packages (from keras) (1.1.0)\n",
      "Requirement already satisfied, skipping upgrade: numpy>=1.9.1 in /Users/LINHTS/anaconda3/lib/python3.7/site-packages (from keras) (1.17.4)\n",
      "Requirement already satisfied, skipping upgrade: h5py in /Users/LINHTS/anaconda3/lib/python3.7/site-packages (from keras) (2.9.0)\n",
      "Requirement already satisfied, skipping upgrade: pyyaml in /Users/LINHTS/anaconda3/lib/python3.7/site-packages (from keras) (5.1.1)\n",
      "Requirement already satisfied, skipping upgrade: scipy>=0.14 in /Users/LINHTS/anaconda3/lib/python3.7/site-packages (from keras) (1.3.0)\n",
      "Installing collected packages: keras\n",
      "Successfully installed keras-2.3.1\n"
     ]
    }
   ],
   "source": [
    "# Task 0.3. install keras API\n",
    "!pip install --user keras --upgrade"
   ]
  },
  {
   "cell_type": "markdown",
   "metadata": {},
   "source": [
    "# Initialize "
   ]
  },
  {
   "cell_type": "code",
   "execution_count": 2,
   "metadata": {},
   "outputs": [
    {
     "name": "stderr",
     "output_type": "stream",
     "text": [
      "/Users/LINHTS/.local/lib/python3.7/site-packages/tensorflow/python/framework/dtypes.py:516: FutureWarning: Passing (type, 1) or '1type' as a synonym of type is deprecated; in a future version of numpy, it will be understood as (type, (1,)) / '(1,)type'.\n",
      "  _np_qint8 = np.dtype([(\"qint8\", np.int8, 1)])\n",
      "/Users/LINHTS/.local/lib/python3.7/site-packages/tensorflow/python/framework/dtypes.py:517: FutureWarning: Passing (type, 1) or '1type' as a synonym of type is deprecated; in a future version of numpy, it will be understood as (type, (1,)) / '(1,)type'.\n",
      "  _np_quint8 = np.dtype([(\"quint8\", np.uint8, 1)])\n",
      "/Users/LINHTS/.local/lib/python3.7/site-packages/tensorflow/python/framework/dtypes.py:518: FutureWarning: Passing (type, 1) or '1type' as a synonym of type is deprecated; in a future version of numpy, it will be understood as (type, (1,)) / '(1,)type'.\n",
      "  _np_qint16 = np.dtype([(\"qint16\", np.int16, 1)])\n",
      "/Users/LINHTS/.local/lib/python3.7/site-packages/tensorflow/python/framework/dtypes.py:519: FutureWarning: Passing (type, 1) or '1type' as a synonym of type is deprecated; in a future version of numpy, it will be understood as (type, (1,)) / '(1,)type'.\n",
      "  _np_quint16 = np.dtype([(\"quint16\", np.uint16, 1)])\n",
      "/Users/LINHTS/.local/lib/python3.7/site-packages/tensorflow/python/framework/dtypes.py:520: FutureWarning: Passing (type, 1) or '1type' as a synonym of type is deprecated; in a future version of numpy, it will be understood as (type, (1,)) / '(1,)type'.\n",
      "  _np_qint32 = np.dtype([(\"qint32\", np.int32, 1)])\n",
      "/Users/LINHTS/.local/lib/python3.7/site-packages/tensorflow/python/framework/dtypes.py:525: FutureWarning: Passing (type, 1) or '1type' as a synonym of type is deprecated; in a future version of numpy, it will be understood as (type, (1,)) / '(1,)type'.\n",
      "  np_resource = np.dtype([(\"resource\", np.ubyte, 1)])\n",
      "/Users/LINHTS/.local/lib/python3.7/site-packages/tensorboard/compat/tensorflow_stub/dtypes.py:541: FutureWarning: Passing (type, 1) or '1type' as a synonym of type is deprecated; in a future version of numpy, it will be understood as (type, (1,)) / '(1,)type'.\n",
      "  _np_qint8 = np.dtype([(\"qint8\", np.int8, 1)])\n",
      "/Users/LINHTS/.local/lib/python3.7/site-packages/tensorboard/compat/tensorflow_stub/dtypes.py:542: FutureWarning: Passing (type, 1) or '1type' as a synonym of type is deprecated; in a future version of numpy, it will be understood as (type, (1,)) / '(1,)type'.\n",
      "  _np_quint8 = np.dtype([(\"quint8\", np.uint8, 1)])\n",
      "/Users/LINHTS/.local/lib/python3.7/site-packages/tensorboard/compat/tensorflow_stub/dtypes.py:543: FutureWarning: Passing (type, 1) or '1type' as a synonym of type is deprecated; in a future version of numpy, it will be understood as (type, (1,)) / '(1,)type'.\n",
      "  _np_qint16 = np.dtype([(\"qint16\", np.int16, 1)])\n",
      "/Users/LINHTS/.local/lib/python3.7/site-packages/tensorboard/compat/tensorflow_stub/dtypes.py:544: FutureWarning: Passing (type, 1) or '1type' as a synonym of type is deprecated; in a future version of numpy, it will be understood as (type, (1,)) / '(1,)type'.\n",
      "  _np_quint16 = np.dtype([(\"quint16\", np.uint16, 1)])\n",
      "/Users/LINHTS/.local/lib/python3.7/site-packages/tensorboard/compat/tensorflow_stub/dtypes.py:545: FutureWarning: Passing (type, 1) or '1type' as a synonym of type is deprecated; in a future version of numpy, it will be understood as (type, (1,)) / '(1,)type'.\n",
      "  _np_qint32 = np.dtype([(\"qint32\", np.int32, 1)])\n",
      "/Users/LINHTS/.local/lib/python3.7/site-packages/tensorboard/compat/tensorflow_stub/dtypes.py:550: FutureWarning: Passing (type, 1) or '1type' as a synonym of type is deprecated; in a future version of numpy, it will be understood as (type, (1,)) / '(1,)type'.\n",
      "  np_resource = np.dtype([(\"resource\", np.ubyte, 1)])\n"
     ]
    },
    {
     "name": "stdout",
     "output_type": "stream",
     "text": [
      "1.14.0\n"
     ]
    }
   ],
   "source": [
    "# # Task 0.4. all the import we need\n",
    "from __future__ import absolute_import, division, print_function\n",
    "\n",
    "# TensorFlow and tf.keras\n",
    "import tensorflow as tf\n",
    "from tensorflow import keras     # we can also access keras API with tf.keras\n",
    "\n",
    "# Helper libraries\n",
    "import numpy as np\n",
    "import matplotlib.pyplot as plt\n",
    "\n",
    "print(tf.__version__)\n",
    "# now we are ready to move on to doing some amazing things."
   ]
  },
  {
   "cell_type": "markdown",
   "metadata": {},
   "source": [
    "# Part 1 - Getting to know TensorFlow (TF)\n",
    "TensorFlow is a framework. This core open source library help you develop and train ML models. You can install tensorflow locally or run tensorflow on colab.research.google.com directly in your browser. TensorFlow supports wide range of devices and API's, including javascript for deploying mobile ML based applications. It can run on single CPU systems, GPUs, TPU's as well as mobile devices and large scale distributed systems of hundreds of machines.\n",
    "TensorFlow is its own framework. Everything in TF is implemented as a computational graph. The graph nodes are executed at later times. \n",
    "Let us understand some of its basic API functionality."
   ]
  },
  {
   "cell_type": "markdown",
   "metadata": {},
   "source": [
    "## Task 1.1 Learn the basics\n",
    "TensorFlow is a framework to allow efficient computing with multi-dimensional data. All the calls to TF are executed through API calls. It uses python (altough there are other TF suported languages now such as R)  in the backend to exceute these commands. All objects are stored as tensors, a form of a vector. A TF graph can be evaluated using a tensorflow session. Here are few examples. Just run the cells and see what happens. "
   ]
  },
  {
   "cell_type": "code",
   "execution_count": 185,
   "metadata": {},
   "outputs": [
    {
     "name": "stdout",
     "output_type": "stream",
     "text": [
      "Tensor(\"add_10:0\", shape=(), dtype=int32)\n",
      "[17, 72]\n"
     ]
    },
    {
     "data": {
      "text/plain": [
       "\"Because  now it is create a computational graph which is the 'add' function. \\nIt will get a symbolic variable, not the final output. \\nIn order to actually do any computations, we need a session and use the run method. \\n\""
      ]
     },
     "execution_count": 185,
     "metadata": {},
     "output_type": "execute_result"
    }
   ],
   "source": [
    "# create two constant tensors\n",
    "two_node = tf.constant(8)     \n",
    "three_node = tf.constant(9)\n",
    "# sum of the two tensors\n",
    "sum_node = two_node + three_node    # need a session to evaluate the value of sum_node\n",
    "# product the two objects\n",
    "pdt_node = two_node * three_node\n",
    "print(sum_node)                   # should notice that they are just unevaluated tensors\n",
    "# A session is an object instance that encapsulate the state and operations on the object.\n",
    "with tf.Session() as sess:\n",
    "    # call run method in the session object to evaluate the two_node and sum_node objects\n",
    "    print(sess.run([sum_node, pdt_node]))\n",
    "    \n",
    "# QUESTION : Explain why print(sum_node) does not show the value 17\n",
    "## BEGIN SOLUTION\n",
    " \n",
    "'''Because  now it is create a computational graph which is the 'add' function. \n",
    "It will get a symbolic variable, not the final output. \n",
    "In order to actually do any computations, we need a session and use the run method. \n",
    "'''\n",
    "\n",
    "## END SOLUTION"
   ]
  },
  {
   "cell_type": "markdown",
   "metadata": {},
   "source": [
    "## Loops in TensorFlow\n",
    " read more about loops in : https://www.tensorflow.org/api_docs/python/tf/while_loop"
   ]
  },
  {
   "cell_type": "code",
   "execution_count": 186,
   "metadata": {},
   "outputs": [
    {
     "name": "stdout",
     "output_type": "stream",
     "text": [
      "12\n"
     ]
    }
   ],
   "source": [
    "# here is some sample code on how to write loops. Just modify the code\n",
    "i = tf.constant(0)\n",
    "cond = lambda i: tf.less(i, 12)\n",
    "body = lambda i: tf.add(i, 1)\n",
    "r = tf.while_loop(cond, body, [i])   # returns the final value of i\n",
    "with tf.Session() as sess:\n",
    "    print(sess.run(r))\n",
    "\n"
   ]
  },
  {
   "cell_type": "markdown",
   "metadata": {},
   "source": [
    "### Another Example of a While Loop"
   ]
  },
  {
   "cell_type": "code",
   "execution_count": 187,
   "metadata": {},
   "outputs": [
    {
     "name": "stdout",
     "output_type": "stream",
     "text": [
      "[4, 4]\n"
     ]
    }
   ],
   "source": [
    "# some other demo code on how to use tf.while\n",
    "def cond(t1, t2):\n",
    "    return tf.less(t1, t2)\n",
    "\n",
    "def body(t1, t2):\n",
    "    return [tf.add(t1, 1), t2]\n",
    "\n",
    "t1 = tf.constant(2)\n",
    "t2 = tf.constant(4)\n",
    "\n",
    "res = tf.while_loop(cond, body, [t1, t2])\n",
    "\n",
    "with tf.Session() as sess:\n",
    "    print(sess.run(res))\n",
    "\n",
    "# question: What happens if we change both t1 and t2 at the same time?\n",
    "## BEGIN SOLUTION\n",
    "#  the varibale t1 and t2 in the cond and body function will change at the same time.\n",
    "## END SOLUTION"
   ]
  },
  {
   "cell_type": "markdown",
   "metadata": {},
   "source": [
    "## Task 1.2 Find the first 10 Fibbonachchi numbers\n",
    "In this activity we will write TF code using tensorflow framework to output the first 10 Fibonnachi numbers 1 1 2 3 5 8 13 21 34 55 as a list"
   ]
  },
  {
   "cell_type": "code",
   "execution_count": 188,
   "metadata": {
    "scrolled": true
   },
   "outputs": [
    {
     "name": "stdout",
     "output_type": "stream",
     "text": [
      "[1, 1, 2, 3, 5, 8, 13, 21, 34, 55]\n"
     ]
    }
   ],
   "source": [
    "fib1 = tf.Variable(1)\n",
    "fib2 = tf.Variable(1)\n",
    "## BEGIN SOLUTION\n",
    "\n",
    "\n",
    "sum_new = tf.add(fib1,fib2)   \n",
    "\n",
    "with tf.control_dependencies([sum_new]):\n",
    "    x = tf.assign(fib1,fib2)\n",
    "    \n",
    "with tf.control_dependencies([x]):\n",
    "    y = tf.assign(fib2,sum_new)\n",
    "    \n",
    "\n",
    "init = tf.global_variables_initializer()\n",
    "\n",
    "with tf.Session() as sess:\n",
    "    sess.run(init)\n",
    "    fibonacci =[fib1.eval(), fib2.eval()]\n",
    "    \n",
    "    for i in range(8):\n",
    "        next, x1, y1 = sess.run([sum_new, x, y])\n",
    "        fibonacci.append(next)\n",
    "\n",
    "print(fibonacci)\n",
    "\n",
    "\n",
    "\n",
    "## END SOLUTION"
   ]
  },
  {
   "cell_type": "markdown",
   "metadata": {},
   "source": [
    "## Task 1.3 Activating Placeholders\n",
    "In the execution of the tensorflow objects, it is possible that you will have to wait for some results to show after a cycle of operations. A placeholder is more like a variable that you would declare in a program and initialize later. In general, Insert a placeholder for a tensor that will be always fed.We can use tf.placeholder to make calls to placeholder tensors. Read more about placeholders at https://www.tensorflow.org/api_docs/python/tf/placeholder"
   ]
  },
  {
   "cell_type": "code",
   "execution_count": 189,
   "metadata": {},
   "outputs": [
    {
     "name": "stdout",
     "output_type": "stream",
     "text": [
      "Sum 50\n",
      "Difference -10\n",
      "Product 600\n"
     ]
    }
   ],
   "source": [
    "## BEGIN SOLUTION\n",
    "\n",
    "# two tensor placeholders that can hold int32 data\n",
    "x = tf.placeholder(tf.int32)       # x can hold int32 \n",
    "y = tf.placeholder(tf.int32)        # y can hold int32 \n",
    "\n",
    "# Find sum, difference and product\n",
    "sumOf = tf.add(x,y)                 # use tf.sum\n",
    "diff =  tf.subtract(x,y)            # use tf.subtract\n",
    "prod =  tf.multiply(x,y)            # use tf.multiply\n",
    "\n",
    "# store inputs as a dictionary\n",
    "dict_values = {x:20,y:30}          # store values x = 20 and y = 30 as a dictionay\n",
    "\n",
    "\n",
    "## END SOLUTION\n",
    "\n",
    "# run a session\n",
    "with tf.Session() as sess:\n",
    "    print('Sum',sess.run(sumOf,feed_dict=dict_values))\n",
    "    print('Difference',sess.run(diff,feed_dict=dict_values))\n",
    "    print('Product',sess.run(prod,feed_dict=dict_values))"
   ]
  },
  {
   "cell_type": "markdown",
   "metadata": {},
   "source": [
    "## Task 1.4 Matrix Operations\n",
    "The power of the concept of a tensor is its ability to treat all data as vectors. This makes it easy to parallelize many operations such as matrix multiplication. If you run code on colab.research.google.com, you can also choose some server configuration (GPU, TPU) to run your code faster."
   ]
  },
  {
   "cell_type": "code",
   "execution_count": 190,
   "metadata": {},
   "outputs": [
    {
     "name": "stdout",
     "output_type": "stream",
     "text": [
      "[[20.]]\n"
     ]
    }
   ],
   "source": [
    "## BEGIN SOLUTION\n",
    "\n",
    "import numpy as np\n",
    "# initialize numpy arrays a and b\n",
    "a = np.array([[5.0,5.0]])               \n",
    "b = np.array([[2.0],[2.0]])  \n",
    "\n",
    "# define two tensors mat1 and mat2 using numpy arrays a and b\n",
    "mat1 = tf.placeholder(tf.float32, shape = [1,2])                  # mat1 is a rank-1 tensor               \n",
    "mat2 = tf.placeholder(tf.float32, shape = [2,1])                 # mat2 is a rank-2 tensor  \n",
    "\n",
    "# build a matrix multiplier tensor\n",
    "matrix_pdt = tf.matmul(mat1, mat2)    # use tf.matmul to find the result\n",
    "# run a session and perform the operartions\n",
    "dict_values = {mat1:a,mat2:b} \n",
    "\n",
    "with tf.Session() as sess:\n",
    "    result = sess.run(matrix_pdt, dict_values)\n",
    "    print(result)\n",
    "## END SOLUTION\n",
    "\n",
    "#with tf.Session() as sess:\n",
    "#    result = sess.run(matrix_multi)\n",
    "#    print(result)"
   ]
  },
  {
   "cell_type": "markdown",
   "metadata": {},
   "source": [
    "### Read API Docs\n",
    "The above examples were just few things to demonstrate that tensorflow is a complete framework and one can code an entire program using tensor objects. Read more at https://www.tensorflow.org/api_docs"
   ]
  },
  {
   "cell_type": "markdown",
   "metadata": {},
   "source": [
    "# Part 2 Linear Regression with TensorFlow\n",
    "We have learned how to implement linear regression using Pandas. In this exercise, we will learn how to use tensorflow to implement linear regression. As stated TensorFlow is a framework that allows you to implement many standard ML algorithms. We will implement Linear Regression using TF libraries."
   ]
  },
  {
   "cell_type": "markdown",
   "metadata": {},
   "source": [
    "## Task 2.1 set up\n",
    "Let us set up basic things needed to get tensorflow going. You are asked to experiment with different values of alpha (learning rate), epochs (how many rounds in training. Too little is under-fitting, too much is over-fitting). You need to display the process every 50 steps."
   ]
  },
  {
   "cell_type": "code",
   "execution_count": 191,
   "metadata": {},
   "outputs": [],
   "source": [
    "# initialize\n",
    "import tensorflow as tf\n",
    "import numpy\n",
    "import matplotlib.pyplot as plt\n",
    "rng = numpy.random\n",
    "\n",
    "# BEGIN SOLUTION\n",
    "# set parameters\n",
    "alpha = 0.001    # alpha is the learning rate\n",
    "epochs = 10   # One epoch is when an entire dataset is passed both forward and backward through the neural network \n",
    "                # only once\n",
    "step = 50       # every 50 iterations display the results.\n",
    "\n",
    "\n",
    "# END SOLUTION"
   ]
  },
  {
   "cell_type": "markdown",
   "metadata": {},
   "source": [
    "## Task 2.2 Read data\n",
    "We will work with our CS 205 Data set. First we create a data frame, then extract midterm and final exam scores as numpy arrays."
   ]
  },
  {
   "cell_type": "code",
   "execution_count": 192,
   "metadata": {},
   "outputs": [
    {
     "name": "stdout",
     "output_type": "stream",
     "text": [
      "training set size:  110\n",
      "validation set size:  28\n"
     ]
    }
   ],
   "source": [
    "# Read the Training Data\n",
    "\n",
    "# BEGIN SOLUTION\n",
    "import pandas as pd\n",
    "df = pd.read_csv(\"data/midterm_finals_CS205F18.csv\")\n",
    "\n",
    "# use first 110 records for the training data\n",
    "train_X = df[0:110].values[:,0]\n",
    "train_Y = df[0:110].values[:,1]\n",
    "\n",
    "# use the remaining for validation\n",
    "validate_X = df[110:].values[:,0]\n",
    "validate_Y = df[110:].values[:,1]\n",
    "\n",
    "n_samples = train_X.shape[0]\n",
    "print(\"training set size: \", n_samples) \n",
    "print(\"validation set size: \", validate_X.shape[0])    \n",
    "\n",
    "\n",
    "# END SOLUTION"
   ]
  },
  {
   "cell_type": "markdown",
   "metadata": {},
   "source": [
    "## Task 2.3 Intialize model\n",
    "Set model weights and bias. You may want to try random weights and random bias. If they do not provide a good regression line, try to pre-set some values for weight and bias. The values must be floats."
   ]
  },
  {
   "cell_type": "code",
   "execution_count": 193,
   "metadata": {},
   "outputs": [],
   "source": [
    "# tf Graph Input. We will feed the values later using feed_dict.\n",
    "X = tf.placeholder(\"float\")\n",
    "Y = tf.placeholder(\"float\")\n",
    "\n",
    "# BEGIN SOLUTION\n",
    "# Variables are manipulated via the tf.Variable class. A tf.Variable represents a tensor \n",
    "# whose value can be changed by running ops on it. tf.Variable exists outside the context of a single session.run call.\n",
    "\n",
    "theta = tf.Variable(1.0, tf.float32)   # define tf.Variable theta and initialize to some value\n",
    "b = tf.Variable(1.0, tf.float32)         # define tf.Variable bias b and initialize\n",
    "\n",
    "# END SOLUTION"
   ]
  },
  {
   "cell_type": "markdown",
   "metadata": {},
   "source": [
    "## Task 2.4 Linear Model"
   ]
  },
  {
   "cell_type": "code",
   "execution_count": 194,
   "metadata": {},
   "outputs": [],
   "source": [
    "# Construct a linear model using tf.add and tf.multiply. The model provides y = theta*x + bias\n",
    "# BEGIN SOLUTION\n",
    "predictor = tf.add(tf.multiply(X, theta), b)\n",
    "\n",
    "\n",
    "# END SOLUTION"
   ]
  },
  {
   "cell_type": "code",
   "execution_count": 195,
   "metadata": {},
   "outputs": [],
   "source": [
    "# Compute the average squared error using TF calls\n",
    "# BEGIN SOLUTION\n",
    "# Mean squared error\n",
    "cost = tf.reduce_mean(tf.square(predictor - Y))\n",
    "# Use the Gradient descent Optimizer from tf.train\n",
    "# Gradient descent\n",
    "optimizer = tf.train.GradientDescentOptimizer(alpha)\n",
    "\n",
    "# END SOLUTION"
   ]
  },
  {
   "cell_type": "code",
   "execution_count": 196,
   "metadata": {},
   "outputs": [],
   "source": [
    "# Initialize the variables (i.e. assign their default value)\n",
    "## BEGIN SOLUTION\n",
    "init = tf.global_variables_initializer()\n",
    "\n",
    "## END SOLUTION"
   ]
  },
  {
   "cell_type": "markdown",
   "metadata": {},
   "source": [
    "## Task 2.5 Train the Model\n",
    "Train the linear regression model by running the training data through the network."
   ]
  },
  {
   "cell_type": "code",
   "execution_count": 197,
   "metadata": {},
   "outputs": [
    {
     "name": "stdout",
     "output_type": "stream",
     "text": [
      "Epoch: 50 cost = 16.08393 W = 0.84079546  b = 1.008944\n",
      "Epoch: 100 cost = 16.0764 W = 0.8394854  b = 1.0283037\n",
      "Epoch: 150 cost = 16.069075 W = 0.8381932  b = 1.0473993\n",
      "Epoch: 200 cost = 16.061947 W = 0.83691865  b = 1.0662342\n",
      "Epoch: 250 cost = 16.055012 W = 0.8356615  b = 1.0848122\n",
      "Epoch: 300 cost = 16.048267 W = 0.83442146  b = 1.1031368\n",
      "Epoch: 350 cost = 16.041706 W = 0.8331983  b = 1.121211\n",
      "Epoch: 400 cost = 16.035322 W = 0.831992  b = 1.1390389\n",
      "Epoch: 450 cost = 16.02911 W = 0.83080196  b = 1.1566234\n",
      "Epoch: 500 cost = 16.023066 W = 0.8296282  b = 1.1739683\n",
      "Epoch: 550 cost = 16.017185 W = 0.8284705  b = 1.1910764\n",
      "Epoch: 600 cost = 16.011465 W = 0.82732856  b = 1.2079511\n",
      "Epoch: 650 cost = 16.0059 W = 0.8262023  b = 1.2245955\n",
      "Epoch: 700 cost = 16.000486 W = 0.8250913  b = 1.2410128\n",
      "Epoch: 750 cost = 15.995217 W = 0.82399553  b = 1.2572061\n",
      "Epoch: 800 cost = 15.990091 W = 0.8229146  b = 1.2731786\n",
      "Epoch: 850 cost = 15.9851055 W = 0.8218485  b = 1.2889332\n",
      "Epoch: 900 cost = 15.980254 W = 0.8207969  b = 1.3044727\n",
      "Epoch: 950 cost = 15.975536 W = 0.81975967  b = 1.3198003\n",
      "Epoch: 1000 cost = 15.9709425 W = 0.8187367  b = 1.3349186\n",
      "Epoch: 1050 cost = 15.966477 W = 0.8177275  b = 1.3498309\n",
      "Epoch: 1100 cost = 15.962129 W = 0.81673217  b = 1.3645397\n",
      "Epoch: 1150 cost = 15.9579 W = 0.8157504  b = 1.3790475\n",
      "Epoch: 1200 cost = 15.953788 W = 0.814782  b = 1.3933575\n",
      "Epoch: 1250 cost = 15.949784 W = 0.8138269  b = 1.4074723\n",
      "Epoch: 1300 cost = 15.945891 W = 0.8128848  b = 1.4213946\n",
      "Epoch: 1350 cost = 15.942102 W = 0.81195545  b = 1.4351269\n",
      "Epoch: 1400 cost = 15.938417 W = 0.81103885  b = 1.448672\n",
      "Epoch: 1450 cost = 15.934833 W = 0.81013477  b = 1.4620322\n",
      "Epoch: 1500 cost = 15.931342 W = 0.809243  b = 1.4752102\n",
      "Epoch: 1550 cost = 15.92795 W = 0.8083635  b = 1.4882082\n",
      "Epoch: 1600 cost = 15.924646 W = 0.8074959  b = 1.501029\n",
      "Epoch: 1650 cost = 15.921433 W = 0.80664015  b = 1.5136747\n",
      "Epoch: 1700 cost = 15.918308 W = 0.8057961  b = 1.526148\n",
      "Epoch: 1750 cost = 15.915267 W = 0.80496347  b = 1.5384511\n",
      "Epoch: 1800 cost = 15.912311 W = 0.8041423  b = 1.5505865\n",
      "Epoch: 1850 cost = 15.909431 W = 0.8033323  b = 1.5625563\n",
      "Epoch: 1900 cost = 15.9066305 W = 0.8025333  b = 1.5743628\n",
      "Epoch: 1950 cost = 15.903905 W = 0.8017453  b = 1.5860081\n",
      "Epoch: 2000 cost = 15.901257 W = 0.80096805  b = 1.5974945\n",
      "Epoch: 2050 cost = 15.898677 W = 0.8002013  b = 1.6088243\n",
      "Epoch: 2100 cost = 15.896167 W = 0.7994451  b = 1.6199993\n",
      "Epoch: 2150 cost = 15.893726 W = 0.79869914  b = 1.631022\n",
      "Epoch: 2200 cost = 15.891352 W = 0.7979635  b = 1.6418939\n",
      "Epoch: 2250 cost = 15.889043 W = 0.7972378  b = 1.6526175\n",
      "Epoch: 2300 cost = 15.886794 W = 0.796522  b = 1.6631953\n",
      "Epoch: 2350 cost = 15.884609 W = 0.795816  b = 1.6736284\n",
      "Epoch: 2400 cost = 15.882481 W = 0.7951196  b = 1.6839193\n",
      "Epoch: 2450 cost = 15.880411 W = 0.7944327  b = 1.6940699\n",
      "Epoch: 2500 cost = 15.878398 W = 0.7937552  b = 1.704082\n",
      "Epoch: 2550 cost = 15.876438 W = 0.7930869  b = 1.7139577\n",
      "Epoch: 2600 cost = 15.874531 W = 0.7924277  b = 1.7236984\n",
      "Epoch: 2650 cost = 15.872679 W = 0.79177755  b = 1.7333062\n",
      "Epoch: 2700 cost = 15.870872 W = 0.7911362  b = 1.742783\n",
      "Epoch: 2750 cost = 15.869119 W = 0.79050374  b = 1.7521304\n",
      "Epoch: 2800 cost = 15.86741 W = 0.7898798  b = 1.7613503\n",
      "Epoch: 2850 cost = 15.865748 W = 0.7892644  b = 1.7704446\n",
      "Epoch: 2900 cost = 15.864131 W = 0.78865737  b = 1.7794148\n",
      "Epoch: 2950 cost = 15.86256 W = 0.78805864  b = 1.7882625\n",
      "Epoch: 3000 cost = 15.86103 W = 0.7874681  b = 1.7969898\n",
      "Epoch: 3050 cost = 15.85954 W = 0.78688556  b = 1.8055979\n",
      "Epoch: 3100 cost = 15.858092 W = 0.786311  b = 1.8140885\n",
      "Epoch: 3150 cost = 15.856685 W = 0.78574425  b = 1.8224633\n",
      "Epoch: 3200 cost = 15.855312 W = 0.7851853  b = 1.8307236\n",
      "Epoch: 3250 cost = 15.853978 W = 0.7846339  b = 1.8388716\n",
      "Epoch: 3300 cost = 15.852681 W = 0.7840901  b = 1.8469081\n",
      "Epoch: 3350 cost = 15.8514185 W = 0.78355366  b = 1.854835\n",
      "Epoch: 3400 cost = 15.850192 W = 0.78302455  b = 1.8626537\n",
      "Epoch: 3450 cost = 15.848997 W = 0.7825027  b = 1.8703659\n",
      "Epoch: 3500 cost = 15.847834 W = 0.7819879  b = 1.8779726\n",
      "Epoch: 3550 cost = 15.846702 W = 0.7814802  b = 1.8854756\n",
      "Epoch: 3600 cost = 15.845602 W = 0.7809794  b = 1.8928763\n",
      "Epoch: 3650 cost = 15.844531 W = 0.7804854  b = 1.900176\n",
      "Epoch: 3700 cost = 15.843491 W = 0.7799982  b = 1.9073757\n",
      "Epoch: 3750 cost = 15.842477 W = 0.77951765  b = 1.9144776\n",
      "Epoch: 3800 cost = 15.841492 W = 0.77904356  b = 1.9214828\n",
      "Epoch: 3850 cost = 15.840531 W = 0.77857596  b = 1.9283923\n",
      "Epoch: 3900 cost = 15.8396 W = 0.7781148  b = 1.9352075\n",
      "Epoch: 3950 cost = 15.838692 W = 0.7776599  b = 1.9419296\n",
      "Epoch: 4000 cost = 15.837809 W = 0.7772112  b = 1.9485601\n",
      "Epoch: 4050 cost = 15.836949 W = 0.7767686  b = 1.9551\n",
      "Epoch: 4100 cost = 15.836114 W = 0.77633214  b = 1.9615508\n",
      "Epoch: 4150 cost = 15.8353 W = 0.77590156  b = 1.9679136\n",
      "Epoch: 4200 cost = 15.834509 W = 0.7754769  b = 1.9741895\n",
      "Epoch: 4250 cost = 15.833739 W = 0.7750579  b = 1.9803799\n",
      "Epoch: 4300 cost = 15.832992 W = 0.77464473  b = 1.9864857\n",
      "Epoch: 4350 cost = 15.832262 W = 0.7742372  b = 1.9925082\n",
      "Epoch: 4400 cost = 15.831551 W = 0.7738353  b = 1.9984484\n",
      "Epoch: 4450 cost = 15.830862 W = 0.77343875  b = 2.0043077\n",
      "Epoch: 4500 cost = 15.830192 W = 0.7730477  b = 2.0100873\n",
      "Epoch: 4550 cost = 15.829538 W = 0.77266186  b = 2.0157876\n",
      "Epoch: 4600 cost = 15.828904 W = 0.7722814  b = 2.0214107\n",
      "Epoch: 4650 cost = 15.828286 W = 0.77190614  b = 2.0269566\n",
      "Epoch: 4700 cost = 15.827685 W = 0.77153593  b = 2.0324268\n",
      "Epoch: 4750 cost = 15.8271 W = 0.77117074  b = 2.0378227\n",
      "Epoch: 4800 cost = 15.8265295 W = 0.77081066  b = 2.0431447\n",
      "Epoch: 4850 cost = 15.825976 W = 0.77045536  b = 2.0483942\n",
      "Epoch: 4900 cost = 15.825439 W = 0.770105  b = 2.0535722\n",
      "Epoch: 4950 cost = 15.824915 W = 0.7697594  b = 2.0586793\n",
      "Epoch: 5000 cost = 15.824405 W = 0.7694185  b = 2.0637167\n",
      "Epoch: 5050 cost = 15.823909 W = 0.7690823  b = 2.0686855\n",
      "Epoch: 5100 cost = 15.823427 W = 0.7687506  b = 2.0735867\n",
      "Epoch: 5150 cost = 15.822957 W = 0.7684235  b = 2.0784206\n",
      "Epoch: 5200 cost = 15.8225 W = 0.7681008  b = 2.0831888\n",
      "Epoch: 5250 cost = 15.822055 W = 0.7677826  b = 2.0878918\n",
      "Epoch: 5300 cost = 15.821623 W = 0.76746863  b = 2.092531\n",
      "Epoch: 5350 cost = 15.821203 W = 0.76715904  b = 2.0971065\n",
      "Epoch: 5400 cost = 15.820793 W = 0.7668536  b = 2.1016197\n",
      "Epoch: 5450 cost = 15.820395 W = 0.7665523  b = 2.1060715\n",
      "Epoch: 5500 cost = 15.820008 W = 0.76625526  b = 2.1104624\n",
      "Epoch: 5550 cost = 15.819633 W = 0.7659621  b = 2.1147933\n",
      "Epoch: 5600 cost = 15.819266 W = 0.76567304  b = 2.1190653\n",
      "Epoch: 5650 cost = 15.818909 W = 0.76538795  b = 2.1232789\n",
      "Epoch: 5700 cost = 15.818562 W = 0.7651066  b = 2.1274354\n",
      "Epoch: 5750 cost = 15.818223 W = 0.7648292  b = 2.1315353\n",
      "Epoch: 5800 cost = 15.817893 W = 0.76455563  b = 2.1355786\n",
      "Epoch: 5850 cost = 15.8175745 W = 0.7642857  b = 2.1395674\n",
      "Epoch: 5900 cost = 15.817264 W = 0.7640194  b = 2.1435018\n",
      "Epoch: 5950 cost = 15.816962 W = 0.7637568  b = 2.147382\n",
      "Epoch: 6000 cost = 15.8166685 W = 0.7634978  b = 2.1512094\n",
      "Epoch: 6050 cost = 15.8163805 W = 0.76324236  b = 2.154985\n",
      "Epoch: 6100 cost = 15.816102 W = 0.7629904  b = 2.1587083\n",
      "Epoch: 6150 cost = 15.81583 W = 0.76274186  b = 2.162381\n",
      "Epoch: 6200 cost = 15.815568 W = 0.76249665  b = 2.166004\n",
      "Epoch: 6250 cost = 15.815313 W = 0.7622549  b = 2.1695774\n",
      "Epoch: 6300 cost = 15.8150625 W = 0.76201636  b = 2.173102\n",
      "Epoch: 6350 cost = 15.814818 W = 0.7617811  b = 2.1765785\n",
      "Epoch: 6400 cost = 15.814584 W = 0.76154906  b = 2.1800077\n",
      "Epoch: 6450 cost = 15.814354 W = 0.7613202  b = 2.18339\n",
      "Epoch: 6500 cost = 15.814129 W = 0.76109445  b = 2.186726\n",
      "Epoch: 6550 cost = 15.813911 W = 0.76087177  b = 2.1900167\n",
      "Epoch: 6600 cost = 15.813701 W = 0.76065207  b = 2.1932626\n",
      "Epoch: 6650 cost = 15.813495 W = 0.76043546  b = 2.1964638\n",
      "Epoch: 6700 cost = 15.813294 W = 0.7602218  b = 2.1996214\n",
      "Epoch: 6750 cost = 15.813101 W = 0.76001096  b = 2.2027366\n",
      "Epoch: 6800 cost = 15.812911 W = 0.7598031  b = 2.2058084\n",
      "Epoch: 6850 cost = 15.812725 W = 0.759598  b = 2.208839\n",
      "Epoch: 6900 cost = 15.812547 W = 0.7593958  b = 2.2118275\n",
      "Epoch: 6950 cost = 15.812371 W = 0.7591963  b = 2.2147758\n",
      "Epoch: 7000 cost = 15.8122015 W = 0.7589995  b = 2.2176833\n",
      "Optinization Finished!\n",
      "Traing cost = 15.812086 theta = 0.75886726  b = 2.2196379\n"
     ]
    }
   ],
   "source": [
    "## BEGIN SOLUTION\n",
    "train = optimizer.minimize(cost)\n",
    "sess = tf.Session()\n",
    "sess.run(init)\n",
    "dic_value={X:train_X, Y:train_Y}\n",
    "previous_loss = np.inf\n",
    "current_loss = 0\n",
    "current_W=0\n",
    "current_b=0\n",
    "count=0\n",
    "\n",
    "\n",
    "while 1:\n",
    "    sess.run(train, dic_value)\n",
    "    current_W, current_b, current_loss = sess.run([theta, b, cost], {X:train_X, Y:train_Y})   \n",
    "    count=count+1\n",
    "    \n",
    "    if(count%step == 0):\n",
    "        print(\"Epoch: %s cost = %s W = %s  b = %s\" % (count, current_loss, current_W, current_b))\n",
    "    if(np.abs(previous_loss - current_loss) < 0.00000001):\n",
    "        print(\"Optinization Finished!\")\n",
    "        print(\"Traing cost = %s theta = %s  b = %s\" % (current_loss, current_W, current_b))\n",
    "        break\n",
    "    #print(previous_loss)\n",
    "    #print(curr_loss)\n",
    "    previous_loss = curr_loss\n",
    "    \n",
    "## END SOLUTION"
   ]
  },
  {
   "cell_type": "markdown",
   "metadata": {},
   "source": [
    "## Task 2.6 Display Regression Line"
   ]
  },
  {
   "cell_type": "code",
   "execution_count": 198,
   "metadata": {},
   "outputs": [
    {
     "data": {
      "image/png": "[encoded data removed]",
      "text/plain": [
       "<Figure size 432x288 with 1 Axes>"
      ]
     },
     "metadata": {
      "needs_background": "light"
     },
     "output_type": "display_data"
    }
   ],
   "source": [
    "#Graphic display\n",
    "with tf.Session() as sess:\n",
    "    sess.run(init)\n",
    "    plt.plot(train_X, train_Y, 'ro', label='Original data')\n",
    "    plt.plot(train_X, sess.run(theta) * train_X + sess.run(b), label='Fitted line')\n",
    "    plt.legend()\n",
    "    plt.show()"
   ]
  },
  {
   "cell_type": "markdown",
   "metadata": {},
   "source": [
    "## Task 2.7 Compare with Validation Data\n",
    "We have some validation samples and let us see where the line fits"
   ]
  },
  {
   "cell_type": "code",
   "execution_count": 199,
   "metadata": {
    "scrolled": true
   },
   "outputs": [
    {
     "data": {
      "image/png": "[encoded data removed]",
      "text/plain": [
       "<Figure size 432x288 with 1 Axes>"
      ]
     },
     "metadata": {
      "needs_background": "light"
     },
     "output_type": "display_data"
    }
   ],
   "source": [
    "## BEGIIN SOLUTION\n",
    "with tf.Session() as sess:\n",
    "    sess.run(init)\n",
    "    plt.plot(validate_X, validate_Y, 'go', label='Original data')\n",
    "    plt.plot(validate_X, sess.run(theta) * validate_X + sess.run(b), label='Fitted line')\n",
    "    plt.legend()\n",
    "    plt.show()\n",
    "\n",
    "\n",
    "## END SOLUTION"
   ]
  },
  {
   "cell_type": "markdown",
   "metadata": {},
   "source": [
    "# Part 3 - MNIST Dataset"
   ]
  },
  {
   "cell_type": "markdown",
   "metadata": {},
   "source": [
    "## Task 3.1 download the MNIST dataset"
   ]
  },
  {
   "cell_type": "code",
   "execution_count": 200,
   "metadata": {},
   "outputs": [
    {
     "name": "stdout",
     "output_type": "stream",
     "text": [
      "Extracting MNIST_data/train-images-idx3-ubyte.gz\n",
      "Extracting MNIST_data/train-labels-idx1-ubyte.gz\n",
      "Extracting MNIST_data/t10k-images-idx3-ubyte.gz\n",
      "Extracting MNIST_data/t10k-labels-idx1-ubyte.gz\n"
     ]
    }
   ],
   "source": [
    "import tensorflow as tf\n",
    "# get the MNIST Dataset\n",
    "from tensorflow.examples.tutorials.mnist import input_data\n",
    "mnist = input_data.read_data_sets(\"MNIST_data/\",one_hot=True)"
   ]
  },
  {
   "cell_type": "markdown",
   "metadata": {},
   "source": [
    "## Task 3.2 Learn about the data set.\n",
    "Just write some code to answer the following questions. \n",
    "\n",
    "- how big is the training set?\n",
    "- how big is the test set?"
   ]
  },
  {
   "cell_type": "code",
   "execution_count": 201,
   "metadata": {},
   "outputs": [
    {
     "name": "stdout",
     "output_type": "stream",
     "text": [
      "\n",
      "test images: 10000 validation images: 5000\n"
     ]
    }
   ],
   "source": [
    "### BEGIN SOLUTION\n",
    "from tensorflow.examples.tutorials.mnist import input_data\n",
    "\n",
    "# get training images from MNIST\n",
    "train_images = mnist.train.images\n",
    "# how big is test images?\n",
    "test_images = len(mnist.test.images)\n",
    "# how big is validation set?\n",
    "validation_images = len(mnist.validation.images)\n",
    "\n",
    "### END SOLUTION\n",
    "print(\"\\ntest images:\", test_images, \"validation images:\", validation_images)"
   ]
  },
  {
   "cell_type": "markdown",
   "metadata": {},
   "source": [
    "## Visualize the data set\n",
    "Each image is a 28 x 28 gray-scale 2D image. Display the images images[0] and images[1] as 2D images.\n",
    "Then flatten and display image[0] to understand the form of the data."
   ]
  },
  {
   "cell_type": "code",
   "execution_count": 202,
   "metadata": {},
   "outputs": [
    {
     "data": {
      "text/plain": [
       "<matplotlib.image.AxesImage at 0x1c4de90e80>"
      ]
     },
     "execution_count": 202,
     "metadata": {},
     "output_type": "execute_result"
    },
    {
     "data": {
      "image/png": "[encoded data removed]",
      "text/plain": [
       "<Figure size 432x288 with 1 Axes>"
      ]
     },
     "metadata": {
      "needs_background": "light"
     },
     "output_type": "display_data"
    },
    {
     "data": {
      "image/png": "[encoded data removed]",
      "text/plain": [
       "<Figure size 432x288 with 4 Axes>"
      ]
     },
     "metadata": {
      "needs_background": "light"
     },
     "output_type": "display_data"
    }
   ],
   "source": [
    "import matplotlib.pyplot as plt\n",
    "%matplotlib inline\n",
    "plt1 = plt.imshow(mnist.train.images[0].reshape(28,28))\n",
    "plt2 = plt.imshow(mnist.train.images[1].reshape(28,28),cmap='gist_gray')  # gray scale\n",
    "# flatten images[1] and display\n",
    "plt3 = plt.imshow(mnist.train.images[1].reshape(784,1),cmap='gist_gray',aspect=0.02)\n",
    "\n",
    "# show first 4 images side by side. \n",
    "f, axarr = plt.subplots(2,2)\n",
    "axarr[0,0].imshow(mnist.train.images[0].reshape(28,28))\n",
    "axarr[0,1].imshow(mnist.train.images[1].reshape(28,28))\n",
    "axarr[1,0].imshow(mnist.train.images[2].reshape(28,28))\n",
    "axarr[1,1].imshow(mnist.train.images[3].reshape(28,28))\n"
   ]
  },
  {
   "cell_type": "markdown",
   "metadata": {},
   "source": [
    "# Handwriting classification with k-means\n",
    "In this part, we will use the MNIST dataset to import 60,000 handwritten digits and implement k-means to classify them. MNIST is a benchmark dataset that can help learn many things about Deep Learning basics.\n",
    "This Dataset of 60,000 28x28 grayscale images of the 10 digits, along with a test set of 10,000 images. You can import this data from keras.datasets or from tensorflow.examples.tutorials.mnist. You can use either form in your solutions."
   ]
  },
  {
   "cell_type": "markdown",
   "metadata": {},
   "source": [
    "## Task 3.3 Visualize the image\n",
    "Each image is a gray-scale 28x28 (784 pixles) image. You can treat the image as a rank-1 tensor (or 1D vector) of size 784 with each value between 0-255. We can plot some images here."
   ]
  },
  {
   "cell_type": "code",
   "execution_count": 203,
   "metadata": {},
   "outputs": [
    {
     "data": {
      "image/png": "[encoded data removed]",
      "text/plain": [
       "<Figure size 432x288 with 1 Axes>"
      ]
     },
     "metadata": {
      "needs_background": "light"
     },
     "output_type": "display_data"
    }
   ],
   "source": [
    "import matplotlib.pyplot as plt\n",
    "%matplotlib inline\n",
    "### BEGIN SOLUTION\n",
    "plt1 = plt.imshow(mnist.train.images[1].reshape(28,28),cmap=plt.cm.binary)   # visualize image[1]\n",
    "### END SOLUTION"
   ]
  },
  {
   "cell_type": "markdown",
   "metadata": {},
   "source": [
    "## Task 3.4 Implementing k-means algorithm\n",
    "In this part we will implement k-means algorithm to identify possible clusters in this data. An image in this data set is a gray-scale 28 x 28 image (784 pixels with values from 0-255). We will use the eucledean distance between two images to see the \"distance\" between them. Since we are working in high dimension (784) we can only understand the concept of distance here. We will use the k-means algorithm that was discussed in lecture 12.2 slide 15. You do not need to use TF modules t do this."
   ]
  },
  {
   "cell_type": "markdown",
   "metadata": {},
   "source": [
    "### Task 3.4.1 Implement the k-means algorithm (vectorized)"
   ]
  },
  {
   "cell_type": "code",
   "execution_count": 204,
   "metadata": {},
   "outputs": [],
   "source": [
    "# The vectorized version of k-means is given on the slide 14 of Lecture 12.1.\n",
    "# Just use the same code.\n",
    "\n",
    "## BEGIN SOLUTION\n",
    "def kmeans(X, k, max_iter = 100, rand_seed = 0):\n",
    "    Mu= X[np.random.choice(X.shape[0],k),:]\n",
    "    for i in range(max_iter):\n",
    "        D=-2*X@Mu.T+(X**2).sum(axis=1)[:,None]+(Mu**2).sum(axis=1)\n",
    "        C=np.eye(k)[np.argmin(D,axis=1),:]\n",
    "        Mu = (C.T@X)/np.sum(C,axis=0)[:,None]\n",
    "    loss=np.linalg.norm(X-Mu[np.argmin(D,axis=1),:])**2\n",
    "    return Mu, C, loss\n",
    "\n",
    "\n",
    "## END SOLUTION"
   ]
  },
  {
   "cell_type": "markdown",
   "metadata": {},
   "source": [
    "### Task 3.4.2 Cluster MNIST images.\n",
    "Experiment to Find a good value of k such that most centers look like images."
   ]
  },
  {
   "cell_type": "code",
   "execution_count": 205,
   "metadata": {},
   "outputs": [
    {
     "data": {
      "image/png": "[encoded data removed]",
      "text/plain": [
       "<Figure size 720x720 with 50 Axes>"
      ]
     },
     "metadata": {},
     "output_type": "display_data"
    }
   ],
   "source": [
    "## BEGIN SOLUTION\n",
    "\n",
    "# start with k = 50\n",
    "k = 50\n",
    "# flatten each image to be 784 value vector and form 55000 x 784 matrix X\n",
    "X = mnist.train.images.flatten().reshape(55000,784)\n",
    "\n",
    "# Choose k random centers from X. That is k random data points become the original cluster centers\n",
    "Mu = X[np.random.choice(X.shape[0],k),:]\n",
    "# call the kmeans algorithm defined above. Be sure to have the proper arguments passed to kmeans.\n",
    "[Mu, y, loss] = kmeans(X, k, max_iter=10, rand_seed=0)\n",
    "\n",
    "\n",
    "# Plot the cluster centers as images\n",
    "#plt1= plt.imshow(Mu[0].reshape(28,28))\n",
    "\n",
    "            \n",
    "plt.figure(figsize=(10,10))\n",
    "for i in range(50):\n",
    "    plt.subplot(5,10,i+1)\n",
    "    plt.xticks([])\n",
    "    plt.yticks([])\n",
    "    plt.grid(False)\n",
    "    plt.imshow(Mu[i].reshape(28,28),cmap=plt.cm.binary)\n",
    "plt.show()\n",
    "\n",
    "\n",
    "## END SOLUTION\n"
   ]
  },
  {
   "cell_type": "markdown",
   "metadata": {},
   "source": [
    "# First Exercise in Deep Learning\n",
    "Deep Learning has become quite popular in recent times (since 2012) due to its remarkable advances in applications including self driving cars, image recognition, and voice to text conversion. The hello world of deep learning (DL) is long considered to be the exercise that uses of the MNIST hand-written digits dataset that was created by Yann Lecun in 1998. Yann LeCunn who is a professor at NYU and Director of AI at Facebook, just won the 2019 Turing Award for his contributions to Deep Learning. Let us go through a series of exercises to learn how to read, train and validate an image data set. In this case the 60,000 handwritten images of 0-9."
   ]
  },
  {
   "cell_type": "markdown",
   "metadata": {},
   "source": [
    "## Task 3.5 Create a Model"
   ]
  },
  {
   "cell_type": "code",
   "execution_count": 206,
   "metadata": {},
   "outputs": [],
   "source": [
    "import tensorflow as tf\n",
    "## BEGIN SOLUTION\n",
    "\n",
    "# create a placeholder\n",
    "x = tf.placeholder(tf.float32,shape=[None,784])  # 784 = mnist.train.images[1].shape\n",
    "\n",
    "# there are 10 possible numbers that the classifier must recognize\n",
    "# start with a matrix 784x10 of all zeros\n",
    "thetas = tf.Variable(tf.zeros([784,10]))\n",
    "\n",
    "# create a tf.Variable of 10 zeros (we need to find 10 categories 0-9)\n",
    "b = tf.Variable(tf.zeros([10]))\n",
    "\n",
    "# Create the Graph thetas*x + b\n",
    "y = tf.add(tf.matmul(x, thetas), b)\n",
    "\n",
    "# loss and optimizer\n",
    "y_true = tf.placeholder(tf.float32,[None,10])\n",
    "\n",
    "# Cross-entropy loss, or log loss, measures the performance of a classification model whose output is a \n",
    "# probability value between 0 and 1.\n",
    "cross_entropy = tf.reduce_mean(tf.nn.softmax_cross_entropy_with_logits_v2(labels=y_true, logits=y))\n",
    "\n",
    "# optimizer is a Gradient Descent Optimizer\n",
    "optimizer = tf.train.GradientDescentOptimizer(0.5)\n",
    "\n",
    "# training model using optimizer.minimize. Pass cross_entrophy as the argument\n",
    "train = optimizer.minimize(cross_entropy)\n",
    "\n",
    "\n",
    "\n",
    "## END SOLUTION"
   ]
  },
  {
   "cell_type": "markdown",
   "metadata": {},
   "source": [
    "## Task 3.6 Create a Session and Train"
   ]
  },
  {
   "cell_type": "code",
   "execution_count": 207,
   "metadata": {},
   "outputs": [],
   "source": [
    "# initialize all global variables\n",
    "init = tf.global_variables_initializer()"
   ]
  },
  {
   "cell_type": "markdown",
   "metadata": {},
   "source": [
    "Suggestions: \n",
    "- Train the model for 1000 steps on the training set\n",
    "- Use the built in batch feeder from minist for conveninece\n",
    "- Test the Train Model and print out the accuracy of the Model"
   ]
  },
  {
   "cell_type": "code",
   "execution_count": 208,
   "metadata": {},
   "outputs": [
    {
     "name": "stdout",
     "output_type": "stream",
     "text": [
      "0.9131\n"
     ]
    }
   ],
   "source": [
    "## BEGIN SOLUTION\n",
    "with tf.Session() as sess:\n",
    "    sess.run(init)\n",
    "\n",
    "    for step in range(1000):\n",
    "        batch_x , batch_y = mnist.train.next_batch(100)            \n",
    "        sess.run(train,feed_dict={x:batch_x,y_true:batch_y})\n",
    "    correct_prediction = tf.equal(tf.argmax(y,1),tf.argmax(y_true,1))\n",
    "    accuracy = tf.reduce_mean(tf.cast(correct_prediction,tf.float32))\n",
    "    print(sess.run(accuracy,feed_dict={x:mnist.test.images,y_true:mnist.test.labels}))\n",
    "\n",
    "\n",
    "## END SOLUTION"
   ]
  },
  {
   "cell_type": "markdown",
   "metadata": {},
   "source": [
    "## Task 3.7 (challenge task - optional)\n",
    "What is the maximum accuracy you observed in the previous part?  The best models can get closer to 99% accuracy. If you'd like,  you can try to improve the accuracy of the classifier. Please try this after completing all the required activities."
   ]
  },
  {
   "cell_type": "code",
   "execution_count": 209,
   "metadata": {},
   "outputs": [],
   "source": [
    "## Code and documentation for challenge task (optional). You can add any additional cells as needed."
   ]
  },
  {
   "cell_type": "markdown",
   "metadata": {},
   "source": [
    "# Part 4 - Classification of Fashion images"
   ]
  },
  {
   "cell_type": "markdown",
   "metadata": {},
   "source": [
    "## Task 4.1 Set up"
   ]
  },
  {
   "cell_type": "code",
   "execution_count": 210,
   "metadata": {},
   "outputs": [],
   "source": [
    "# import the fashionMNISt data set and separate training and test sets\n",
    "# use keras.datasets.fashion_mnist\n",
    "from tensorflow import keras\n",
    "fashion_mnist = keras.datasets.fashion_mnist\n",
    "(train_images, train_labels), (test_images, test_labels) = fashion_mnist.load_data()  "
   ]
  },
  {
   "cell_type": "markdown",
   "metadata": {},
   "source": [
    "## Task 4.2 Explore this data set\n",
    "Inspect the dataset. The class names are not included with the data. We will add them.\n",
    "'T-shirt/top', 'Trouser', 'Pullover', 'Dress', 'Coat', \n",
    "               'Sandal', 'Shirt', 'Sneaker', 'Bag', 'Ankle boot'"
   ]
  },
  {
   "cell_type": "code",
   "execution_count": 211,
   "metadata": {},
   "outputs": [
    {
     "name": "stdout",
     "output_type": "stream",
     "text": [
      "shape of train images: (60000, 28, 28)\n",
      "length of train images: 60000\n",
      "shape of train labels: (60000,)\n",
      "length of train labels: 60000\n",
      "shape of test images: (10000, 28, 28)\n",
      "length of test images: 10000\n",
      "shape of test labels: (10000,)\n",
      "length of test labels: 10000\n"
     ]
    }
   ],
   "source": [
    "# add classnames label images (ints) corresponds to thses labels. For example label 0 is T-shirt/top\n",
    "class_names = ['T-shirt/top', 'Trouser', 'Pullover', 'Dress', 'Coat', \n",
    "               'Sandal', 'Shirt', 'Sneaker', 'Bag', 'Ankle boot']\n",
    "\n",
    "## BEGIN SOLUTION\n",
    "# how many images and their dimensions\n",
    "print('shape of train images:',train_images.shape)\n",
    "# what is the length of the training set?\n",
    "print('length of train images:',len(train_images))\n",
    "# how do the training labels look like?\n",
    "print('shape of train labels:',train_labels.shape)\n",
    "print('length of train labels:',len(train_labels))\n",
    "# find more about test_images shape and labels\n",
    "print('shape of test images:',test_images.shape)\n",
    "print('length of test images:',len(test_images))\n",
    "print('shape of test labels:',test_labels.shape)\n",
    "print('length of test labels:',len(test_labels))\n",
    "\n",
    "\n",
    "## END SOLUTION"
   ]
  },
  {
   "cell_type": "markdown",
   "metadata": {},
   "source": [
    "## Task 4.3 Visualize images in the data set"
   ]
  },
  {
   "cell_type": "code",
   "execution_count": 212,
   "metadata": {},
   "outputs": [
    {
     "data": {
      "image/png": "[encoded data removed]",
      "text/plain": [
       "<Figure size 432x288 with 2 Axes>"
      ]
     },
     "metadata": {
      "needs_background": "light"
     },
     "output_type": "display_data"
    },
    {
     "name": "stdout",
     "output_type": "stream",
     "text": [
      "T-shirt/top\n"
     ]
    }
   ],
   "source": [
    "# visualize an image[10] in this data set\n",
    "## BEGIN SOLUTION\n",
    "\n",
    "plt.figure()\n",
    "plt.imshow(train_images[10])\n",
    "plt.colorbar()\n",
    "plt.grid(False)\n",
    "plt.show()\n",
    "print(class_names[train_labels[10]])\n",
    "\n",
    "## END SOLUTION"
   ]
  },
  {
   "cell_type": "markdown",
   "metadata": {},
   "source": [
    "## Task 4.4 Plotting images"
   ]
  },
  {
   "cell_type": "code",
   "execution_count": 213,
   "metadata": {},
   "outputs": [],
   "source": [
    "# scale the images\n",
    "train_images = train_images / 255.0\n",
    "test_images = test_images / 255.0"
   ]
  },
  {
   "cell_type": "code",
   "execution_count": 214,
   "metadata": {},
   "outputs": [
    {
     "data": {
      "image/png": "[encoded data removed]",
      "text/plain": [
       "<Figure size 720x720 with 25 Axes>"
      ]
     },
     "metadata": {},
     "output_type": "display_data"
    }
   ],
   "source": [
    "# plot the first 25 images and their class_names in a 5x5 grid \n",
    "## BEGIN SOLUTION\n",
    "plt.figure(figsize=(10,10))\n",
    "for i in range(25):\n",
    "    plt.subplot(5,5,i+1)\n",
    "    plt.xticks([])\n",
    "    plt.yticks([])\n",
    "    plt.grid(False)\n",
    "    plt.imshow(train_images[i], cmap=plt.cm.binary)\n",
    "    plt.xlabel(class_names[train_labels[i]])\n",
    "plt.show()\n",
    "## END SOLUTION"
   ]
  },
  {
   "cell_type": "markdown",
   "metadata": {},
   "source": [
    "## Task 4.5 Model Creation and Compilation\n",
    "Read about keras model creation at https://keras.io/models/about-keras-models/\n",
    "also read about sequential models at https://keras.io/models/sequential/"
   ]
  },
  {
   "cell_type": "code",
   "execution_count": 215,
   "metadata": {},
   "outputs": [],
   "source": [
    "# create a keras.sequential model\n",
    "# use tf.nn.relu as activation. Read more at https://www.tensorflow.org/api_docs/python/tf/nn\n",
    "# use one input layer (784), one hidden layer(128), and one output layer(10) in the model.\n",
    "# we are only going to use one hidden layer in the model\n",
    "# see some examples here: https://keras.io/models/model/\n",
    "\n",
    "## BEGIN SOLUTION\n",
    "from tensorflow.keras.models import Sequential\n",
    "from tensorflow.keras.layers import Flatten, Dense\n",
    "from tensorflow.nn import relu, softmax\n",
    "\n",
    "\n",
    "train_images = train_images.flatten().reshape(60000, 28*28)\n",
    "test_images = test_images.flatten().reshape(10000, 28*28)\n",
    "\n",
    "model = keras.Sequential([\n",
    "    keras.layers.Dense(128, activation=tf.nn.relu),\n",
    "    keras.layers.Dense(10, activation=tf.nn.softmax)\n",
    "])\n",
    "\n",
    "## END SOLUTION"
   ]
  },
  {
   "cell_type": "code",
   "execution_count": 216,
   "metadata": {},
   "outputs": [],
   "source": [
    "# compile the model. See https://keras.io/models/model/.\n",
    "# you can use the adam optimizer. \n",
    "# The choice of optimization algorithm for your deep learning model is really important\n",
    "# The Adam optimization algorithm is an extension to stochastic gradient descent \n",
    "# that is better for deep learning applications in computer vision.\n",
    "## BEGIN SOLUTION\n",
    "model.compile(optimizer=tf.train.AdamOptimizer(),\n",
    "              loss='sparse_categorical_crossentropy',\n",
    "              metrics=['accuracy'])\n",
    "## END SOLUTION"
   ]
  },
  {
   "cell_type": "markdown",
   "metadata": {},
   "source": [
    "## Task 4.6 Fit the model\n",
    "Fit the model to training images. https://keras.rstudio.com/reference/fit.html\n",
    "You can use any number of epochs (eg. 10). You should see the accuracy increasing and loss decreasing for training images."
   ]
  },
  {
   "cell_type": "code",
   "execution_count": 217,
   "metadata": {},
   "outputs": [
    {
     "name": "stdout",
     "output_type": "stream",
     "text": [
      "Epoch 1/10\n",
      "60000/60000 [==============================] - 3s 43us/sample - loss: 0.4982 - acc: 0.8243\n",
      "Epoch 2/10\n",
      "60000/60000 [==============================] - 2s 38us/sample - loss: 0.3738 - acc: 0.8651\n",
      "Epoch 3/10\n",
      "60000/60000 [==============================] - 2s 40us/sample - loss: 0.3338 - acc: 0.8783\n",
      "Epoch 4/10\n",
      "60000/60000 [==============================] - 2s 37us/sample - loss: 0.3116 - acc: 0.8859\n",
      "Epoch 5/10\n",
      "60000/60000 [==============================] - 2s 39us/sample - loss: 0.2933 - acc: 0.8921\n",
      "Epoch 6/10\n",
      "60000/60000 [==============================] - 2s 39us/sample - loss: 0.2800 - acc: 0.8960\n",
      "Epoch 7/10\n",
      "60000/60000 [==============================] - 2s 38us/sample - loss: 0.2665 - acc: 0.9018\n",
      "Epoch 8/10\n",
      "60000/60000 [==============================] - 2s 38us/sample - loss: 0.2571 - acc: 0.9039\n",
      "Epoch 9/10\n",
      "60000/60000 [==============================] - 2s 37us/sample - loss: 0.2469 - acc: 0.9082\n",
      "Epoch 10/10\n",
      "60000/60000 [==============================] - 2s 38us/sample - loss: 0.2375 - acc: 0.9114\n"
     ]
    },
    {
     "data": {
      "text/plain": [
       "<tensorflow.python.keras.callbacks.History at 0x1c3efc9908>"
      ]
     },
     "execution_count": 217,
     "metadata": {},
     "output_type": "execute_result"
    }
   ],
   "source": [
    "## BEGIN SOLUTION\n",
    "model.fit(train_images, train_labels, epochs = 10)\n",
    "\n",
    "## END SOLUTION"
   ]
  },
  {
   "cell_type": "markdown",
   "metadata": {},
   "source": [
    "## Task 4.7 Test Accuracy\n",
    "Using model.evaluate (see https://keras.io/models/model/) find the test_loss and test_accuracy"
   ]
  },
  {
   "cell_type": "code",
   "execution_count": 218,
   "metadata": {},
   "outputs": [
    {
     "name": "stdout",
     "output_type": "stream",
     "text": [
      "10000/10000 [==============================] - 0s 45us/sample - loss: 0.3427 - acc: 0.8766\n",
      "Test accuracy: 0.8766\n",
      "Test loss: 0.34269672639369964\n"
     ]
    }
   ],
   "source": [
    "## BEGIN SOLUTION\n",
    "test_loss, test_acc = model.evaluate(test_images, test_labels)\n",
    "\n",
    "## END SOLUTION\n",
    "print('Test accuracy:', test_acc)\n",
    "print('Test loss:', test_loss)"
   ]
  },
  {
   "cell_type": "markdown",
   "metadata": {},
   "source": [
    "## Task 4.8 Predicting\n",
    "using model.predict, create a prediction model for test_images"
   ]
  },
  {
   "cell_type": "code",
   "execution_count": 219,
   "metadata": {},
   "outputs": [],
   "source": [
    "## BEGIN SOLUTION\n",
    "# create a prediction model for the test images\n",
    "predictions = model.predict([test_images])\n",
    "\n",
    "## END SOLUTION"
   ]
  },
  {
   "cell_type": "code",
   "execution_count": 220,
   "metadata": {},
   "outputs": [
    {
     "name": "stdout",
     "output_type": "stream",
     "text": [
      "test image # 4 predicted as: Shirt\n"
     ]
    },
    {
     "data": {
      "image/png": "[encoded data removed]",
      "text/plain": [
       "<Figure size 432x288 with 1 Axes>"
      ]
     },
     "metadata": {
      "needs_background": "light"
     },
     "output_type": "display_data"
    }
   ],
   "source": [
    "## Check to see the accuracy of model prediction\n",
    "# how well the model predicted an image? \n",
    "## BEGIN SOLUTION\n",
    "image_num  = 4\n",
    "predicted =np.argmax(predictions[image_num])\n",
    "name = class_names[predicted]\n",
    "\n",
    "print(\"test image #\", image_num, \"predicted as:\", name)\n",
    "plt.figure()\n",
    "plt.imshow(test_images[image_num].reshape(28,28), cmap= plt.cm.binary)\n",
    "plt.show()\n",
    "## END SOLUTION"
   ]
  },
  {
   "cell_type": "markdown",
   "metadata": {},
   "source": [
    "## Task 4.9 Plotting the Predictor confidence\n",
    "Use the following function plot_image to plot the predictor confidence."
   ]
  },
  {
   "cell_type": "code",
   "execution_count": 221,
   "metadata": {},
   "outputs": [],
   "source": [
    "# code by François Chollet\n",
    "def plot_image(i, predictions_array, true_label, img):\n",
    "  predictions_array, true_label, img = predictions_array[i], true_label[i], img[i]\n",
    "  plt.grid(False)\n",
    "  plt.xticks([])\n",
    "  plt.yticks([])\n",
    "  \n",
    "  plt.imshow(img, cmap=plt.cm.binary)\n",
    "\n",
    "  predicted_label = np.argmax(predictions_array)\n",
    "  if predicted_label == true_label:\n",
    "    color = 'blue'\n",
    "  else:\n",
    "    color = 'red'\n",
    "  \n",
    "  plt.xlabel(\"{} {:2.0f}% ({})\".format(class_names[predicted_label],\n",
    "                                100*np.max(predictions_array),\n",
    "                                class_names[true_label]),\n",
    "                                color=color)\n",
    "\n",
    "def plot_value_array(i, predictions_array, true_label):\n",
    "  predictions_array, true_label = predictions_array[i], true_label[i]\n",
    "  plt.grid(False)\n",
    "  plt.xticks([])\n",
    "  plt.yticks([])\n",
    "  thisplot = plt.bar(range(10), predictions_array, color=\"#777777\")\n",
    "  plt.ylim([0, 1]) \n",
    "  predicted_label = np.argmax(predictions_array)\n",
    " \n",
    "  thisplot[predicted_label].set_color('red')\n",
    "  thisplot[true_label].set_color('blue')"
   ]
  },
  {
   "cell_type": "code",
   "execution_count": 222,
   "metadata": {},
   "outputs": [
    {
     "name": "stdout",
     "output_type": "stream",
     "text": [
      "image# 0\n"
     ]
    },
    {
     "data": {
      "image/png": "[encoded data removed]",
      "text/plain": [
       "<Figure size 576x252 with 2 Axes>"
      ]
     },
     "metadata": {},
     "output_type": "display_data"
    },
    {
     "name": "stdout",
     "output_type": "stream",
     "text": [
      "image#\n"
     ]
    },
    {
     "data": {
      "image/png": "[encoded data removed]",
      "text/plain": [
       "<Figure size 576x252 with 2 Axes>"
      ]
     },
     "metadata": {},
     "output_type": "display_data"
    }
   ],
   "source": [
    "# use the plot_image to display images and how well they were predicted.\n",
    "## BEGIN SOLUTION\n",
    "i = 0\n",
    "print(\"image#\", i)\n",
    "plt.figure(figsize=(8,3.5))\n",
    "plt.subplot(1,2,1)\n",
    "plot_image(i, predictions, test_labels, test_images.reshape(10000,28,28))\n",
    "plt.subplot(1,2,2)\n",
    "plot_value_array(i, predictions, test_labels)\n",
    "plt.show()\n",
    "i = 12\n",
    "print(\"image#\", )\n",
    "plt.figure(figsize=(8,3.5))\n",
    "plt.subplot(1,2,1)\n",
    "plot_image(i, predictions, test_labels, test_images.reshape(10000,28,28))\n",
    "plt.subplot(1,2,2)\n",
    "plot_value_array(i, predictions, test_labels)\n",
    "plt.show()\n",
    "\n",
    "## END SOLUTION"
   ]
  },
  {
   "cell_type": "markdown",
   "metadata": {},
   "source": [
    "## Task 4.10\n",
    "Plot a 20 images (shown as 5x4 grid) to see test images and their confidence"
   ]
  },
  {
   "cell_type": "code",
   "execution_count": 223,
   "metadata": {},
   "outputs": [
    {
     "data": {
      "image/png": "[encoded data removed]",
      "text/plain": [
       "<Figure size 1152x720 with 40 Axes>"
      ]
     },
     "metadata": {},
     "output_type": "display_data"
    }
   ],
   "source": [
    "# Plot the first X test images, their predicted label, and the true label\n",
    "# Color correct predictions in blue, incorrect predictions in red\n",
    "## BEGIN SOLUTION\n",
    "\n",
    "plt.figure(figsize=(2*2*4, 2*5))\n",
    "\n",
    "for i in range(1,21):\n",
    "  plt.subplot(5, 2*4, (i%4)*2-1 + int(i/4) * 8)\n",
    "  plot_image(i, predictions, test_labels, test_images.reshape(10000,28,28))\n",
    "  plt.subplot(5, 2*4, (i%4)*2 + int(i/4) * 8)\n",
    "  plot_value_array(i, predictions, test_labels)\n",
    "plt.show()\n",
    "## END SOLUTION"
   ]
  },
  {
   "cell_type": "markdown",
   "metadata": {},
   "source": [
    "### Feedback\n",
    "Please provide feedback on this lab.\n",
    "* how would you rate this lab (from 1-10, 10-highest) :\n",
    "* how can we improve his lab? :"
   ]
  },
  {
   "cell_type": "markdown",
   "metadata": {},
   "source": [
    "<div class=\"alert alert-block alert-info\">\n",
    "<h2>Submission Instructions</h2> \n",
    "<b> File Name:</b> Please name the file as your_section_your_netID_finalProj.jpynb<br>\n",
    "<b> Submit To: </b> Canvas &rarr; Assignments &rarr; finalProj <br>\n",
    "<b>Warning:</b> Failure to follow directions may result in loss points.<br>\n",
    "</div>"
   ]
  },
  {
   "cell_type": "markdown",
   "metadata": {},
   "source": [
    "Lab designed by A.D. Gunawardena, 2019. Acknowledgements: Google TensorFlow group"
   ]
  }
 ],
 "metadata": {
  "kernelspec": {
   "display_name": "Python 3",
   "language": "python",
   "name": "python3"
  },
  "language_info": {
   "codemirror_mode": {
    "name": "ipython",
    "version": 3
   },
   "file_extension": ".py",
   "mimetype": "text/x-python",
   "name": "python",
   "nbconvert_exporter": "python",
   "pygments_lexer": "ipython3",
   "version": "3.7.3"
  }
 },
 "nbformat": 4,
 "nbformat_minor": 2
}
