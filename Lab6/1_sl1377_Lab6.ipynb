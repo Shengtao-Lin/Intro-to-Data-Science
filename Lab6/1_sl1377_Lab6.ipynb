{
 "cells": [
  {
   "cell_type": "markdown",
   "metadata": {},
   "source": [
    "<div class=\"alert alert-block alert-info\">\n",
    "<h3>Student Information</h3> Please provide information about yourself.<br>\n",
    "<b>Name</b>: Shengtao Lin<br>\n",
    "<b>NetID</b>:sl1377<br>\n",
    "<b>Notes to Grader</b> (optional): <br>\n",
    "<br><br>\n",
    "<b>IMPORTANT</b>\n",
    "Your work will not be graded withour your initials below<br>\n",
    "I certify that this lab represents my own work and I have read the RU academic intergrity policies at<br>\n",
    "<a href=\"https://www.cs.rutgers.edu/academic-integrity/introduction\">https://www.cs.rutgers.edu/academic-integrity/introduction </a><br>\n",
    "<b>Initials</b>:  SL    \n",
    "\n",
    "\n",
    "<h3>Grader Notes</h3>\n",
    "<b>Your Grade<b>:<br>\n",
    "<b>Grader Initials</b>:<br>\n",
    "<b>Grader Comments</b> (optional):<br>\n",
    "</div>"
   ]
  },
  {
   "cell_type": "markdown",
   "metadata": {},
   "source": [
    "# Lab 6: Univariate Linear Regression\n",
    "\n",
    "### Due Date: Sunday November 17, 2019 on or before 11:59 PM\n",
    "\n",
    "In this lab we will work through the process of:\n",
    "1. implementing a univariate linear regression model\n",
    "2. defining, implementing and testing multiple loss functions \n",
    "3. minimizing loss functions using gradient descent\n",
    "4. comparing with python library functions\n",
    "5. Using the model to predict on new data\n"
   ]
  },
  {
   "cell_type": "markdown",
   "metadata": {},
   "source": [
    "## Initialize"
   ]
  },
  {
   "cell_type": "code",
   "execution_count": 1,
   "metadata": {},
   "outputs": [],
   "source": [
    "import pandas as pd\n",
    "import numpy as np\n",
    "import seaborn as sns\n",
    "import matplotlib.pyplot as plt\n",
    "np.random.seed(42)\n",
    "plt.style.use('fivethirtyeight')\n",
    "sns.set()\n",
    "sns.set_context(\"talk\")\n",
    "%matplotlib inline"
   ]
  },
  {
   "cell_type": "markdown",
   "metadata": {},
   "source": [
    "# Univariate Linear Regression\n",
    "In the first task of the lab, we will model linear regression based on a data set that contains grades from CS 205 course in fall 2018. The dataset (with no ID's) contain midterm and final exam grades of Rutgers students (including other assignment grades). \n",
    "\n",
    "# Task 1 - Initialization\n",
    "Read the file into a dataframe and keep only the midtermRaw and FinaRaw columns. We will be doing univariate regression on x=midterm, y=finalExam\n",
    "The goal is to find a model that will allow us to predict the final exam score given the midterm score."
   ]
  },
  {
   "cell_type": "markdown",
   "metadata": {},
   "source": [
    "### Activity 1.1  Read Data"
   ]
  },
  {
   "cell_type": "code",
   "execution_count": 2,
   "metadata": {},
   "outputs": [
    {
     "data": {
      "text/html": [
       "<div>\n",
       "<style scoped>\n",
       "    .dataframe tbody tr th:only-of-type {\n",
       "        vertical-align: middle;\n",
       "    }\n",
       "\n",
       "    .dataframe tbody tr th {\n",
       "        vertical-align: top;\n",
       "    }\n",
       "\n",
       "    .dataframe thead th {\n",
       "        text-align: right;\n",
       "    }\n",
       "</style>\n",
       "<table border=\"1\" class=\"dataframe\">\n",
       "  <thead>\n",
       "    <tr style=\"text-align: right;\">\n",
       "      <th></th>\n",
       "      <th>midtermRaw</th>\n",
       "      <th>finalRaw</th>\n",
       "    </tr>\n",
       "  </thead>\n",
       "  <tbody>\n",
       "    <tr>\n",
       "      <th>3</th>\n",
       "      <td>45.5</td>\n",
       "      <td>62.0</td>\n",
       "    </tr>\n",
       "    <tr>\n",
       "      <th>4</th>\n",
       "      <td>58.0</td>\n",
       "      <td>60.5</td>\n",
       "    </tr>\n",
       "    <tr>\n",
       "      <th>5</th>\n",
       "      <td>68.0</td>\n",
       "      <td>32.0</td>\n",
       "    </tr>\n",
       "    <tr>\n",
       "      <th>6</th>\n",
       "      <td>64.5</td>\n",
       "      <td>50.5</td>\n",
       "    </tr>\n",
       "    <tr>\n",
       "      <th>7</th>\n",
       "      <td>74.0</td>\n",
       "      <td>51.0</td>\n",
       "    </tr>\n",
       "  </tbody>\n",
       "</table>\n",
       "</div>"
      ],
      "text/plain": [
       "   midtermRaw  finalRaw\n",
       "3        45.5      62.0\n",
       "4        58.0      60.5\n",
       "5        68.0      32.0\n",
       "6        64.5      50.5\n",
       "7        74.0      51.0"
      ]
     },
     "execution_count": 2,
     "metadata": {},
     "output_type": "execute_result"
    }
   ],
   "source": [
    "import pandas as pd\n",
    "df = pd.read_csv(\"data/CS205_grades_12_19_18_Final.csv\")\n",
    "df_cleaned = df[['midtermRaw','finalRaw']]\n",
    "# drop all undefined rows \n",
    "df_cleaned = df_cleaned.dropna() \n",
    "df_cleaned.head()"
   ]
  },
  {
   "cell_type": "markdown",
   "metadata": {},
   "source": [
    "### Activity 1.2 Normalize Data\n",
    "In this task, you need to normalize data using MinMaxScaler from sklearn.preprocessing. Normalize midterm and final scores to be between 0 and 1. X_scaled_values and Y_scaled_values are the normalized midterm and final exam scores."
   ]
  },
  {
   "cell_type": "code",
   "execution_count": 3,
   "metadata": {},
   "outputs": [],
   "source": [
    "# BEGIN SOLUTION\n",
    "from sklearn import preprocessing\n",
    "scaler = preprocessing.MinMaxScaler()\n",
    "scaled_df = scaler.fit_transform(df_cleaned)\n",
    "scaled_df = pd.DataFrame(scaled_df, columns=['midtermScaled', 'finalScaled'])\n",
    "\n",
    "X_scaled_values=np.asarray(scaled_df['midtermScaled']).reshape(-1, 1)\n",
    "Y_scaled_values=np.asarray(scaled_df['finalScaled']).reshape(-1, 1)\n",
    "# END SOLUTION\n",
    "\n",
    "\n",
    "# call the scaled vectors x and y\n",
    "x = X_scaled_values\n",
    "y = Y_scaled_values"
   ]
  },
  {
   "cell_type": "markdown",
   "metadata": {},
   "source": [
    "### Activity 1.3 Plot the data to see if a linear regression line is a good fit\n",
    "It is helpful to understand if the data lends to a linear regression model. In this activity, we will plot the points to see if a line fit to data is reasonable."
   ]
  },
  {
   "cell_type": "code",
   "execution_count": 4,
   "metadata": {},
   "outputs": [
    {
     "data": {
      "image/png": "[encoded data removed]",
      "text/plain": [
       "<Figure size 432x288 with 1 Axes>"
      ]
     },
     "metadata": {
      "needs_background": "light"
     },
     "output_type": "display_data"
    }
   ],
   "source": [
    "import numpy as np\n",
    "import matplotlib.pyplot as plt\n",
    "\n",
    "### BEGIN SOLUTION\n",
    "ax=plt.scatter(x,y)\n",
    "plt.xlim(0, 1)\n",
    "plt.ylim(0, 1)\n",
    "plt.gca().set_aspect('equal')\n",
    "#ax.set_xlabel('midtermScaled')\n",
    "#ax.set_ylabel('finalScaled')\n",
    "### END SOLUTION"
   ]
  },
  {
   "cell_type": "markdown",
   "metadata": {},
   "source": [
    "## Question 1.4\n",
    "### BEGIN ANSWER\n",
    "question: Based on what you see in the plot, do you think it is fine to use linear regression? Why?\n",
    "\n",
    "I believe there is a linear regression relation between midterm and final grade since we ca see there is a correlation between them and when midterm grade increases, final grade increases\n",
    "### END ANSWER"
   ]
  },
  {
   "cell_type": "markdown",
   "metadata": {},
   "source": [
    "# Task 2 Manual Exploration of Linear Regression Line\n",
    "In this task we will manually explore the linear regression line. This will give us a good intution about the process.\n",
    "The goal now is to fit a line \n",
    "$$\n",
    "h(\\theta) = \\theta_0 + \\theta_1*x \n",
    "$$\n",
    "to all data points (x,y), such that the L2 error (or any other error such as L1 or Huber)\n",
    "$$\n",
    "E(\\theta) = \\sum(h(\\theta)-y)^2 $$ is minimized. In this task we will manually change the values of theta0 and theta1 such that we obtain the smallest possible error. \n"
   ]
  },
  {
   "cell_type": "code",
   "execution_count": 5,
   "metadata": {},
   "outputs": [],
   "source": [
    "# define the function h(theta)\n",
    "def h(theta0, theta1, x):\n",
    "    \"\"\"\n",
    "    Return the model theta0 + theta1*x\n",
    "    \n",
    "    \"\"\"\n",
    "    return theta0 + theta1*x"
   ]
  },
  {
   "cell_type": "markdown",
   "metadata": {},
   "source": [
    "### Activity 2.1 - Define the square loss (L2) function\n",
    "Define the function, sqerror that computes the error based on the arguments provided. The function h(theta) is as defined above. Assume that x and y are the observed vectors. We use the average square loss or L2 loss in this case. "
   ]
  },
  {
   "cell_type": "code",
   "execution_count": 6,
   "metadata": {},
   "outputs": [
    {
     "data": {
      "text/plain": [
       "0.02348942348323907"
      ]
     },
     "execution_count": 6,
     "metadata": {},
     "output_type": "execute_result"
    }
   ],
   "source": [
    "import numpy as np\n",
    "\n",
    "## BEGIN SOLUTION\n",
    "def sqerror(x, y, theta0, theta1):\n",
    "    \"\"\"\n",
    "    Input: parameters theta0 and theta1 of the model\n",
    "    Input: x, y vectors\n",
    "    Returns: L2 square error\n",
    "    Assumptions: none\n",
    "    \"\"\"\n",
    "    ht=0\n",
    "    ht=h(theta0, theta1, x)\n",
    "    a= [(ht1-y1)**2 for ht1,y1 in zip(ht,y)]\n",
    "    L2=sum(a)/len(a)\n",
    "    \n",
    "    return list(L2)[0]\n",
    "    \n",
    "## END SOLUTION\n",
    "\n",
    "## testing\n",
    "sqerror(x, y, 0.29,0.52)"
   ]
  },
  {
   "cell_type": "markdown",
   "metadata": {},
   "source": [
    "### Activity 2.2 - Define the L1 Absolute error function\n",
    "Define the function, abserror that computes the avarega absolute error based on the arguments provided. The function h(theta) is as defined above. Assume that x and y are the observed vectors. We use the average abssolute error in this case."
   ]
  },
  {
   "cell_type": "code",
   "execution_count": 7,
   "metadata": {},
   "outputs": [
    {
     "data": {
      "text/plain": [
       "0.12588780834503435"
      ]
     },
     "execution_count": 7,
     "metadata": {},
     "output_type": "execute_result"
    }
   ],
   "source": [
    "import numpy as np\n",
    "import math\n",
    "\n",
    "## BEGIN SOLUTION\n",
    "def abserror(x, y, theta0, theta1):\n",
    "    \"\"\"\n",
    "    Input: parameters theta0 and theta1 of the model \n",
    "    Input: x, y vectors\n",
    "    Returns: L1 error\n",
    "    Assumptions: none\n",
    "    \"\"\"\n",
    "    ht=0\n",
    "    ht=h(theta0, theta1, x)\n",
    "    a= [abs(ht1-y1) for ht1,y1 in zip(ht,y)]\n",
    "    L1=sum(a)/len(a)\n",
    "    \n",
    "    return list(L1)[0]\n",
    "\n",
    "## END SOLUTION\n",
    "\n",
    "## testing\n",
    "abserror(x, y, 0.29,0.52)"
   ]
  },
  {
   "attachments": {
    "image.png": {
     "image/png": "[encoded data removed]"
    }
   },
   "cell_type": "markdown",
   "metadata": {},
   "source": [
    "### Activity 2.3 - Define the Pseudo Huber loss function\n",
    "Define the function, huberror that computes the pseudo huber error based on the two arguments provided. The function h(theta) is as defined above. Assume that x and y are the observed vectors. The equation for this function is given by \n",
    "![image.png](attachment:image.png)\n",
    "The following function finds the average huber error. In this equation, a  = |h(theta) - y| (see notes for details)"
   ]
  },
  {
   "cell_type": "code",
   "execution_count": 8,
   "metadata": {},
   "outputs": [
    {
     "data": {
      "text/plain": [
       "0.006994227909507368"
      ]
     },
     "execution_count": 8,
     "metadata": {},
     "output_type": "execute_result"
    }
   ],
   "source": [
    "import numpy as np\n",
    "import math\n",
    "\n",
    "## BEGIN SOLUTION\n",
    "def huberror(x, y, theta0, theta1, delta):\n",
    "    \"\"\"\n",
    "    Input: parameters theta0, theta1 and delta of the model \n",
    "    Input: x, y vectors\n",
    "    Returns: psuedo huber error\n",
    "    Assumptions: none\n",
    "    \"\"\"\n",
    "    ht=0\n",
    "    ht=h(theta0, theta1, x)  \n",
    "    a= [abs(ht1-y1) for ht1,y1 in zip(ht,y)]\n",
    "    Ldvalue=[delta**2*(math.sqrt(1+(a1/delta)**2)-1) for a1 in a]\n",
    "    Ld=sum(Ldvalue)/len(Ldvalue)\n",
    "    \n",
    "    return Ld\n",
    "    \n",
    "\n",
    "## END SOLUTION\n",
    "\n",
    "## testing\n",
    "huberror(x, y, 0.29,0.52,0.1)"
   ]
  },
  {
   "cell_type": "markdown",
   "metadata": {},
   "source": [
    "### Activity 2.4 Interactive Exploration.\n",
    "Let us initialize the interat widget (as in Lab5) to create sliders that allows us to change the values of theta0 and theta1 and see how things change. Complete the function f below. The function is expected to get two values theta0 and theta1 and plot both the observed points (x,y) and the regression line on the same plot. It also needs to compute the error and display and error."
   ]
  },
  {
   "cell_type": "code",
   "execution_count": 9,
   "metadata": {},
   "outputs": [
    {
     "name": "stdout",
     "output_type": "stream",
     "text": [
      "Enabling notebook extension jupyter-js-widgets/extension...\r\n",
      "      - Validating: \u001b[32mOK\u001b[0m\r\n"
     ]
    }
   ],
   "source": [
    "from ipywidgets import interact\n",
    "!jupyter nbextension enable --py widgetsnbextension"
   ]
  },
  {
   "cell_type": "code",
   "execution_count": 10,
   "metadata": {},
   "outputs": [
    {
     "data": {
      "application/vnd.jupyter.widget-view+json": {
       "model_id": "e5bd2f8b6a4f40728d99d37fc80cb5f3",
       "version_major": 2,
       "version_minor": 0
      },
      "text/plain": [
       "interactive(children=(FloatSlider(value=0.0, description='theta0', max=1.0), FloatSlider(value=0.0, descriptio…"
      ]
     },
     "metadata": {},
     "output_type": "display_data"
    }
   ],
   "source": [
    "# interactive panel\n",
    "import pylab\n",
    "import numpy\n",
    "\n",
    "def f(theta0, theta1):\n",
    "    \"\"\"\n",
    "    Plot the line and points in an interactive panel\n",
    "    \"\"\"\n",
    "    # plot the line for theta0 and theta1\n",
    "    y1 = h(theta0, theta1, x) \n",
    "    # compose plot\n",
    "    pylab.plot(x,y1) \n",
    "    \n",
    "    # compute the L2 error for theta0 and theta1 for 5 decimal places\n",
    "    sqerr = round(sqerror(x, y, theta0, theta1),6)\n",
    "    # compute the absolute or L1 error for theta0 and theta1\n",
    "    abserr = round(abserror(x, y, theta0, theta1),4)\n",
    "    # compute the phub error for theta0 and theta1\n",
    "    huberr = round(huberror(x, y, theta0, theta1, 0.01),4)\n",
    "    pylab.title('L1=' + str(abserr) + '  L2=' + str(sqerr) + '  hub=' + str(huberr))\n",
    "    \n",
    "    # plot the points\n",
    "    pylab.scatter(x, y, alpha=0.5)\n",
    "    pylab.show() # show the plot  \n",
    "\n",
    "interact(f, theta1=(0,1,0.1), theta0=(0,1,0.1));\n"
   ]
  },
  {
   "cell_type": "markdown",
   "metadata": {},
   "source": [
    "### Activity 2.5 Record the best values for each error function\n",
    "Write the \"best\" values you found for theta0 (y-intercept) and theta1 (slope) and the error. \n",
    "This error is the minimum you have observed based on the manual exploration using the widget \n",
    "above."
   ]
  },
  {
   "cell_type": "code",
   "execution_count": 11,
   "metadata": {},
   "outputs": [],
   "source": [
    "\n",
    "\n",
    "# BEST VALUES FOR AVE SQUARE ERROR\n",
    "theta0 = 0.3\n",
    "theta1 =0.5\n",
    "error = 0.126\n",
    "# BEST VALUES FOR AVE ABS ERROR\n",
    "theta0 =0.3\n",
    "theta1 =0.5\n",
    "error = 0.02353\n",
    "\n",
    "# BEST VALUES FOR AVE HUBER ERROR\n",
    "theta0 =0.2\n",
    "theta1 =0.7\n",
    "error = 0.0012"
   ]
  },
  {
   "cell_type": "markdown",
   "metadata": {},
   "source": [
    "# Task 3 - Gradient Descent\n",
    "In this task we use the Gradient descent methods to find a \"better\" values for theta0 and theta1 that minimizes the error. Gradient descent is an iterative algorithm. It computes values of theta0 and theta1 in the direction of reaching the minimum point in the error function. The iterative formulas using L2 loss function for theta0 and theta1 are given by:\n",
    "$$\n",
    "\\theta_0 = \\theta_0 - \\alpha*(\\sum(\\theta_1*x_j + \\theta_0)-y_j)\n",
    "$$\n",
    "$$\n",
    "\\theta_1 = \\theta_1 - \\alpha*(\\sum(\\theta_1*x_j + \\theta_0 - y_j)*x_j\n",
    "$$\n",
    "\n",
    "The alpha is called the \"learning rate\". It is important to pick a good value for alpha so that convergence is not too slow (small alpha) or be at the risk of over shooting the minimum point (large alpha). You may have to experiemnt with few alphas to find something that works."
   ]
  },
  {
   "cell_type": "markdown",
   "metadata": {},
   "source": [
    "### Activity 3.1 Compute using Gradient Descent algorithm (L2 loss)\n",
    "\n",
    "Please print out the theta0 and theta1 values for each iteration in your function. You may get different output compare with the sample output depends on your initial theta0 and theta1 values. We will accept any answers which are close to the sample output."
   ]
  },
  {
   "cell_type": "code",
   "execution_count": 24,
   "metadata": {},
   "outputs": [
    {
     "name": "stdout",
     "output_type": "stream",
     "text": [
      "theta0:0.05437313432835818 theta1:0.9967095948827293 L2:0.0357338216876744\n",
      "theta0:0.044009367164179046 theta1:0.9593776206883948 L2:0.034276709798248844\n",
      "theta0:0.07069614881245201 theta1:0.9441697657455459 L2:0.03310265351529898\n",
      "theta0:0.07445850260114387 theta1:0.917853040028166 L2:0.032094783720785586\n",
      "theta0:0.09072534967175905 theta1:0.8999270692939488 L2:0.03120557208836749\n",
      "theta0:0.09865378179349293 theta1:0.8787952165048333 L2:0.03041230896784455\n",
      "theta0:0.11058707857120836 theta1:0.8612063155101113 L2:0.02970154508098296\n",
      "theta0:0.11929279485989783 theta1:0.8430938322678296 L2:0.029063615767306053\n",
      "theta0:0.12908170670422459 theta1:0.8267745889439873 L2:0.02849067900847348\n",
      "theta0:0.13745408438385084 theta1:0.8108047769006026 L2:0.02797598156066322\n",
      "theta0:0.1459247851577802 theta1:0.7959626266385375 L2:0.027513557511734624\n",
      "theta0:0.15363876380038088 theta1:0.7817196378809479 L2:0.027098081947230377\n",
      "theta0:0.16113673439377352 theta1:0.7683216378319104 L2:0.026724782782411194\n",
      "theta0:0.1681342991892166 theta1:0.7555611908467732 L2:0.02638937661044948\n",
      "theta0:0.17483191027358902 theta1:0.7435014484390304 L2:0.026088016303452227\n",
      "theta0:0.1811423520316239 theta1:0.7320490552541277 L2:0.025817245755416194\n",
      "theta0:0.1871464583906476 theta1:0.7212058870404141 L2:0.025573959853212473\n",
      "theta0:0.19282441643519968 theta1:0.7109204240254063 L2:0.02535536873133628\n",
      "theta0:0.19821432250772275 theta1:0.7011752660068699 L2:0.025158965731725953\n",
      "theta0:0.2033187419811097 theta1:0.6919353793312275 L2:0.02498249864252007\n",
      "theta0:0.20815989172807386 theta1:0.6831784908992979 L2:0.024823943865514002\n",
      "theta0:0.21274716165545826 theta1:0.6748770388764096 L2:0.02468148320898241\n",
      "theta0:0.21709633483906016 theta1:0.6670087015151075 L2:0.024553483037272197\n",
      "theta0:0.2212183126290394 theta1:0.6595500767728106 L2:0.024438475537209584\n",
      "theta0:0.2251258224445794 theta1:0.6524803052964804 L2:0.024335141886198328\n",
      "theta0:0.22882951641809623 theta1:0.6457788342997017 L2:0.024242297128889496\n",
      "theta0:0.23234032442309024 theta1:0.6394266422973868 L2:0.02415887658896279\n",
      "theta0:0.23566811557544864 theta1:0.6334054275423742 L2:0.02408392366018743\n",
      "theta0:0.23882253441591944 theta1:0.6276980021134428 L2:0.024016578836754773\n",
      "theta0:0.24181255203684543 theta1:0.6222879793208663 L2:0.023956069857088678\n",
      "theta0:0.24464677282199976 theta1:0.6171598820883492 L2:0.02390170284810991\n",
      "theta0:0.24733329333978296 theta1:0.6122990070040363 L2:0.02385285436840317\n",
      "theta0:0.2498798233005805 theta1:0.6076914362304113 L2:0.023808964259042997\n",
      "theta0:0.2522936499832269 theta1:0.6033239657651831 L2:0.023769529220097875\n",
      "theta0:0.2545816931190818 theta1:0.5991840864103972 L2:0.023734097039151542\n",
      "theta0:0.2567505046578008 theta1:0.5952599368509729 L2:0.023702261405659158\n",
      "theta0:0.25880629936708066 theta1:0.5915402762130091 L2:0.02367365725167285\n",
      "theta0:0.26075496565926076 theta1:0.588014448005086 L2:0.023647956565507163\n",
      "theta0:0.2626020865754173 theta1:0.5846723518642843 L2:0.023624864630339186\n",
      "theta0:0.26435295335236314 theta1:0.5815044132795762 L2:0.02360411664460977\n",
      "theta0:0.26601258201231054 theta1:0.5785015569542504 L2:0.023585474685471324\n",
      "theta0:0.2675857268883098 theta1:0.5756551803406743 L2:0.023568724980461378\n",
      "theta0:0.269076894742268 theta1:0.5729571292712162 L2:0.023553675456114857\n",
      "theta0:0.27049035738207483 theta1:0.5703996744361345 L2:0.023540153535405114\n",
      "theta0:0.27183016407255745 theta1:0.5679754893366432 L2:0.023528004158755663\n",
      "theta0:0.27310015303351526 theta1:0.5656776292397361 L2:0.02351708800592954\n",
      "theta0:0.27430396249558153 theta1:0.5634995113164478 L2:0.023507279898405918\n",
      "theta0:0.27544504108736695 theta1:0.561434895763942 L2:0.02349846736392351\n",
      "theta0:0.27652665773593754 theta1:0.559477867941515 L2:0.023490549346730467\n",
      "theta0:0.2775519110191663 theta1:0.5576228214196964 L2:0.023483435048750157\n",
      "theta0:0.2785237380497276 theta1:0.5558644419231653 L2:0.02347704288837483\n",
      "theta0:0.27944492288494027 theta1:0.5541976921042134 L2:0.02347129956494685\n",
      "theta0:0.28031810450497896 theta1:0.5526177971133203 L2:0.023466139218199993\n",
      "theta0:0.28114578437144155 theta1:0.551120230919495 L2:0.023461502673021606\n",
      "theta0:0.2819303335943354 theta1:0.5497007033447406 L2:0.023457336760875396\n",
      "theta0:0.2826739997242349 theta1:0.5483551477734063 L2:0.023453593710103336\n",
      "theta0:0.28337891319129666 theta1:0.5470797095024513 L2:0.023450230598114727\n",
      "theta0:0.2840470934082642 theta1:0.5458707346985189 L2:0.02344720885918126\n",
      "theta0:0.28468045455572166 theta1:0.5447247599306146 L2:0.02344449384219317\n",
      "theta0:0.28528081106571207 theta1:0.5436385022481494 L2:0.02344205441330533\n",
      "theta0:0.2858498828196992 theta1:0.5426088497760713 L2:0.02343986259891712\n",
      "theta0:0.286389300075605 theta1:0.541632852800057 L2:0.023437893264891332\n",
      "theta0:0.28690060813813195 theta1:0.5407077153162754 L2:0.023436123828334075\n",
      "theta0:0.28738527178569256 theta1:0.5398307870214831 L2:0.023434533998630682\n",
      "theta0:0.2878446794666634 theta1:0.5389995557205274 L2:0.02343310554476753\n",
      "theta0:0.2882801472769623 theta1:0.5382116401294897 L2:0.023431822086272088\n",
      "theta0:0.28869292273035907 theta1:0.5374647830538645 L2:0.023430668905373472\n",
      "theta0:0.28908418833230987 theta1:0.5367568449222213 L2:0.023429632778229764\n",
      "theta0:0.28945506496756085 theta1:0.536085797656833 L2:0.023428701823286626\n",
      "69\n"
     ]
    }
   ],
   "source": [
    "# given the observed data (obsX,obsY), learning rate (alpha), and desired error threshold, \n",
    "# the function returns theta0 and theta1 when it reaches the error threshold.\n",
    "# The convergence is reached when the abs(newError - oldError) is less than the threshold.\n",
    "\n",
    "# BEGIN SOLUTION  \n",
    "def gd2(obsX, obsY, alpha, threshold):\n",
    "    \"\"\"\n",
    "    Input : observed vectors X, Y, alpha and threshold\n",
    "    Return theta0, theta1 from Gradient Descent L2 loss algorithm\n",
    "    Return: Iterations and L2 Error\n",
    "    \"\"\"\n",
    "    \n",
    "    theta0=0\n",
    "    theta1=1\n",
    "    newError=sqerror(obsX,obsY,theta0,theta1)\n",
    "    oldError=0\n",
    "    iterations=0\n",
    "    while(abs(newError-oldError)>=threshold):\n",
    "        ht=h(theta0, theta1, obsX)\n",
    "        diff=[(ht1-y1) for ht1,y1 in zip(ht,obsY)]\n",
    "        \n",
    "        theta0-=alpha*sum(diff)\n",
    "        theta1-=alpha*(sum([(diff1*x1) for diff1,x1 in zip(diff,obsX)]))\n",
    "        \n",
    "        oldError=newError\n",
    "        newError=sqerror(obsX,obsY,theta0,theta1)\n",
    "        iterations+=1\n",
    "        \n",
    "        print(\"theta0:{} theta1:{} L2:{}\".format(theta0[0],theta1[0],newError))\n",
    "        \n",
    "    return [theta0[0],theta1[0],newError,iterations]\n",
    "    \n",
    "    \n",
    "    \n",
    "    \n",
    "    \n",
    "# END SOLUTION\n",
    "\n",
    "[theta0,theta1,newError,iterations] = gd2(x,y,0.01,0.000001)\n",
    "print(iterations)"
   ]
  },
  {
   "cell_type": "code",
   "execution_count": 13,
   "metadata": {},
   "outputs": [
    {
     "data": {
      "text/plain": [
       "(0.28945506496756085, 0.536085797656833)"
      ]
     },
     "execution_count": 13,
     "metadata": {},
     "output_type": "execute_result"
    }
   ],
   "source": [
    "# observe theta0 and theta1\n",
    "theta0, theta1"
   ]
  },
  {
   "cell_type": "markdown",
   "metadata": {},
   "source": [
    "### Activity 3.2 Compute Gradient Descent (Huber)\n",
    "First Compute a formula for Pseudo huber gradient descent using derivative methods discussed in class and recitation. Similar to L2 descent, use the new formulas (obtained from pseudo huber derivatives) to compute values of theta1, theta1, error. The pseudo huber loss function is provided in Activity 2.3. Use that to differentiate the huber function wrt to theta0 and theta1. \n",
    "\n",
    "Please print out the theta0 and theta1 values for each iteration in your function. You may get different output compared with the sample output depending on your initial theta0 and theta1 values. We will accept any answers which are close to the sample output."
   ]
  },
  {
   "cell_type": "code",
   "execution_count": 49,
   "metadata": {},
   "outputs": [
    {
     "name": "stdout",
     "output_type": "stream",
     "text": [
      "theta0:0.012710052148225607 theta1:0.9975912942623517 L2:0.0014988434939998947\n",
      "theta0:0.020886146665287347 theta1:0.9929456180793372 L2:0.001484003188999996\n",
      "theta0:0.026803172673791207 theta1:0.9872571143357715 L2:0.0014729844589304372\n",
      "theta0:0.03156674965598739 theta1:0.9811135415884872 L2:0.0014637187151256832\n",
      "theta0:0.03572184655656106 theta1:0.9748047894701859 L2:0.0014553781049346324\n",
      "theta0:0.039539573176085904 theta1:0.968473479315646 L2:0.0014475907915224367\n",
      "theta0:0.04315603195268761 theta1:0.9621892419435116 L2:0.0014401797208655103\n",
      "theta0:0.046640326972147955 theta1:0.9559854445098579 L2:0.0014330604694362174\n",
      "theta0:0.05002812022151175 theta1:0.9498774020302114 L2:0.0014261922473273532\n",
      "theta0:0.05333828931395354 theta1:0.9438714430301646 L2:0.0014195488227106913\n",
      "theta0:0.05658123430354084 theta1:0.9379694351901197 L2:0.0014131044876454987\n",
      "theta0:0.05976302746967335 theta1:0.9321710400090977 L2:0.0014068342473914823\n",
      "theta0:0.06288749297726742 theta1:0.9264748332664559 L2:0.0014007179672171281\n",
      "theta0:0.06595726267796714 theta1:0.9208788675937208 L2:0.0013947413747149788\n",
      "theta0:0.06897432217894811 theta1:0.9153809603747243 L2:0.00138889479851633\n",
      "theta0:0.0719402971236639 theta1:0.9099788427199192 L2:0.0013831716660542468\n",
      "theta0:0.07485660439353692 theta1:0.9046702363754923 L2:0.0013775674364459698\n",
      "theta0:0.07772453241923163 theta1:0.8994528928450102 L2:0.0013720789599005248\n",
      "theta0:0.08054528414785185 theta1:0.894324612663394 L2:0.0013667041235062127\n",
      "theta0:0.0833200002731343 theta1:0.8892832542673477 L2:0.0013614416651860427\n",
      "theta0:0.08604977197500593 theta1:0.8843267374383987 L2:0.0013562910708271357\n",
      "theta0:0.08873564802765284 theta1:0.8794530439430354 L2:0.0013512524887854022\n",
      "theta0:0.09137863884527897 theta1:0.8746602167603763 L2:0.001346326609105532\n",
      "theta0:0.0939797188615494 theta1:0.8699463586445255 L2:0.001341514480212552\n",
      "theta0:0.09653982806087505 theta1:0.865309630435181 L2:0.0013368172873706927\n",
      "theta0:0.09905987318977863 theta1:0.8607482493491442 L2:0.0013322361761643926\n",
      "theta0:0.10154072896154105 theta1:0.8562604873647669 L2:0.0013277722066961086\n",
      "theta0:0.10398323931310384 theta1:0.8518446697103779 L2:0.0013234264212110929\n",
      "theta0:0.10638821853417936 theta1:0.8474991734005265 L2:0.0013191998590473832\n",
      "theta0:0.1087564520482794 theta1:0.8432224257689527 L2:0.0013150933069482108\n",
      "theta0:0.11108869688866477 theta1:0.839012903022708 L2:0.0013111067293820888\n",
      "theta0:0.11338568232747684 theta1:0.8348691289179938 L2:0.0013072386143384014\n",
      "theta0:0.11564811131077603 theta1:0.8307896736424893 L2:0.0013034856429882161\n",
      "theta0:0.11787666302099425 theta1:0.8267731528532967 L2:0.001299842922009388\n",
      "theta0:0.12007199619721008 theta1:0.8228182266634002 L2:0.0012963046403372972\n",
      "theta0:0.12223475238434069 theta1:0.8189235983452487 L2:0.0012928648034590993\n",
      "theta0:0.1243655584086255 theta1:0.815088012657353 L2:0.0012895177859151743\n",
      "theta0:0.12646502785042585 theta1:0.811310253875991 L2:0.001286258639446957\n",
      "theta0:0.12853376168312539 theta1:0.8075891437080202 L2:0.001283083219632552\n",
      "theta0:0.13057234839053722 theta1:0.8039235392538727 L2:0.001279988219883418\n",
      "theta0:0.13258136382800514 theta1:0.8003123311308955 L2:0.001276971176786977\n",
      "theta0:0.13456137097634252 theta1:0.7967544418057828 L2:0.0012740304767869868\n",
      "theta0:0.13651291962960801 theta1:0.7932488241442021 L2:0.0012711653650923766\n",
      "theta0:0.1384365459823319 theta1:0.7897944601680712 L2:0.0012683759290102131\n",
      "theta0:0.1403327720426809 theta1:0.786390360010086 L2:0.0012656629914313692\n",
      "theta0:0.14220210480888135 theta1:0.7830355610638945 L2:0.0012630278141111564\n",
      "theta0:0.144045035248657 theta1:0.7797291273392538 L2:0.0012604715264235321\n",
      "theta0:0.14586203735724493 theta1:0.7764701490315622 L2:0.00125799434755999\n",
      "theta0:0.14765356785913406 theta1:0.7732577422811603 L2:0.001255594931622111\n",
      "theta0:0.14942006714341008 theta1:0.7700910490119245 L2:0.0012532702489221588\n",
      "theta0:0.15116196148777686 theta1:0.7669692366373324 L2:0.00125101608645426\n",
      "theta0:0.1528796658511513 theta1:0.7638914974106441 L2:0.0012488278180386875\n",
      "theta0:0.15457358625668827 theta1:0.7608570473335035 L2:0.0012467010348551793\n",
      "theta0:0.15624412122484058 theta1:0.7578651247293648 L2:0.0012446318782419433\n",
      "theta0:0.15789166230410212 theta1:0.7549149886917333 L2:0.001242617131706995\n",
      "theta0:0.15951659403927015 theta1:0.7520059175989238 L2:0.0012406541842573855\n",
      "theta0:0.1611192937140665 theta1:0.7491372078090316 L2:0.0012387409463511822\n",
      "theta0:0.16270013108512224 theta1:0.7463081725738782 L2:0.001236875759314687\n",
      "theta0:0.1642594682093795 theta1:0.7435181411633317 L2:0.0012350573138291145\n",
      "theta0:0.16579765939339963 theta1:0.7407664581697877 L2:0.0012332845813962411\n",
      "theta0:0.16731505125574442 theta1:0.7380524829570447 L2:0.0012315567580468486\n",
      "theta0:0.16881198287815102 theta1:0.7353755892198085 L2:0.001229873217576305\n",
      "theta0:0.17028878601631434 theta1:0.7327351646242878 L2:0.0012282334704475258\n",
      "theta0:0.17174578534036716 theta1:0.7301306105041259 L2:0.0012266371239905529\n",
      "theta0:0.17318329867601437 theta1:0.7275613415882687 L2:0.0012250838401537444\n",
      "theta0:0.1746016372193898 theta1:0.725026785738489 L2:0.0012235732892358115\n",
      "theta0:0.17600110570292068 theta1:0.7225263836752861 L2:0.001222105101431476\n",
      "theta0:0.1773820024971202 theta1:0.7200595886735961 L2:0.001220678821365221\n",
      "theta0:0.178744619645096 theta1:0.7176258662159976 L2:0.0012192938722757915\n",
      "theta0:0.18008924284170696 theta1:0.7152246936013638 L2:0.0012179495350098264\n",
      "theta0:0.18141615138420933 theta1:0.7128555595192035 L2:0.0012166449430523506\n",
      "theta0:0.1827256181308019 theta1:0.7105179636101601 L2:0.00121537909059949\n",
      "theta0:0.18401790950371838 theta1:0.7082114160372827 L2:0.0012141508483976375\n",
      "theta0:0.18529328556413557 theta1:0.7059354370893512 L2:0.0012129589825229867\n",
      "theta0:0.18655200017079343 theta1:0.7036895568286812 L2:0.0012118021735258399\n",
      "theta0:0.1877943012181292 theta1:0.7014733147853741 L2:0.0012106790357426288\n",
      "theta0:0.1890204309371175 theta1:0.699286259691439 L2:0.0012095881378310581\n",
      "theta0:0.19023062623476397 theta1:0.6971279492434208 L2:0.0012085280254071178\n",
      "theta0:0.19142511904626044 theta1:0.6949979498812089 L2:0.0012074972455585287\n",
      "theta0:0.19260413667614187 theta1:0.6928958365725744 L2:0.0012064943717992717\n",
      "theta0:0.19376790211005118 theta1:0.6908211925964008 L2:0.0012055180273703812\n",
      "81\n"
     ]
    }
   ],
   "source": [
    "# given the observed data (obsX,obsY), learning rate (alpha), and desired error, \n",
    "# the function returns theta0, theta1, error and iterations\n",
    "# that reaches a minimum error threshold\n",
    "\n",
    "## BEGIN SOLUTION\n",
    "\n",
    "def gdh(obsX, obsY, alpha, threshold, delta):\n",
    "    \"\"\"\n",
    "    Input : observed vectors X, Y, alpha and threshold\n",
    "    Return theta0, theta1 from Gradient Descent huber loss algorithm\n",
    "    Return: Iterations and huber Error\n",
    "    \"\"\"\n",
    "    \n",
    "    theta0=0\n",
    "    theta1=1\n",
    "\n",
    "    newError=huberror(obsX,obsY,theta0,theta1,delta)\n",
    "    oldError=0\n",
    "    iterations=0\n",
    "    while(abs(newError-oldError)>=threshold):\n",
    "        ht=h(theta0, theta1, obsX)\n",
    "        ddiff=[(ht1-y1)/delta for ht1,y1 in zip(ht,obsY)]\n",
    "        \n",
    "\n",
    "        \n",
    "        theta0-=alpha*sum([(delta**2)*(0.5)*((1+ddiff1**2)**0.5)*2*ddiff1 for ddiff1 in ddiff])\n",
    "        theta1-=alpha*sum([(delta**2)*(0.5)*((1+ddiff1**2)**0.5)*2*ddiff1*obsX1 for ddiff1,obsX1 in zip(ddiff,obsX)])\n",
    "        \n",
    "        oldError=newError\n",
    "        newError=huberror(obsX,obsY,theta0,theta1,delta)\n",
    "        iterations+=1\n",
    "        \n",
    "        print(\"theta0:{} theta1:{} L2:{}\".format(theta0[0],theta1[0],newError))\n",
    "        \n",
    "    return [theta0[0],theta1[0],newError,iterations]\n",
    "\n",
    "## END SOLUTION\n",
    "# testing    \n",
    "[theta0,theta1,newError,iterations] = gdh(x,y,0.01,0.000001,0.01)\n",
    "print(iterations)"
   ]
  },
  {
   "cell_type": "markdown",
   "metadata": {},
   "source": [
    "### Activity 3.2\n",
    "1. Write the values of theta0, theta1, alpha, error that provided the minimum value through gradient descent\n",
    "2. Experiment the new values of theta0, theta1 to see if the interactive widget shows similar things.\n",
    "\n",
    "##### BEGIN ANSWER\n",
    "theta0:0.19376790211005118, theta1:0.6908211925964008, alpha:0.01, error:0.0012055180273703812\n",
    "\n",
    "The final theta0 and theta1 would change but still close to 0.2 and 0.7 unless the initially set too close such as theta0=.5 and theta1=.5 will result in theta0=0.316 and theta1=0.499\n",
    "\n",
    "##### END ANSWER"
   ]
  },
  {
   "cell_type": "markdown",
   "metadata": {},
   "source": [
    "### Activity 3.3 Compare with Library Estimators\n",
    "Now use the sklearn LinearRegression module to automate this process. What coefficients do you get? Are they close to what you received from gradient descent? Find the error from sklearn package. Is that error smaller or bigger than the squared error you received?"
   ]
  },
  {
   "cell_type": "code",
   "execution_count": 43,
   "metadata": {},
   "outputs": [
    {
     "name": "stdout",
     "output_type": "stream",
     "text": [
      "[0.29620134]\n",
      "[[0.5238794]]\n"
     ]
    }
   ],
   "source": [
    "from sklearn.linear_model import LinearRegression\n",
    "lm = LinearRegression()\n",
    "result = lm.fit(x,y)\n",
    "print(result.intercept_)\n",
    "print(result.coef_)"
   ]
  },
  {
   "cell_type": "code",
   "execution_count": 44,
   "metadata": {},
   "outputs": [
    {
     "data": {
      "text/plain": [
       "0.023420461270159783"
      ]
     },
     "execution_count": 44,
     "metadata": {},
     "output_type": "execute_result"
    }
   ],
   "source": [
    "theta0 = result.intercept_\n",
    "theta1 = result.coef_\n",
    "sqerror(x,y,theta0,theta1)"
   ]
  },
  {
   "cell_type": "markdown",
   "metadata": {},
   "source": [
    "## Task 4- Predict the Final Exam Score\n",
    "The regression line was obtained using grades from CS 205 course. We can consider them to be training data. Now we trained a model (with theta0 and theta1) so we can predict the grade for your own course based on your midterm grade.\n",
    "We will do few things before we can accomplish this task."
   ]
  },
  {
   "cell_type": "markdown",
   "metadata": {},
   "source": [
    "### Activity 4.1 Read the midterm grades\n",
    "The grade file for CS439 midterm is given in data/CS439_grades.csv. Read this data file to a new "
   ]
  },
  {
   "cell_type": "code",
   "execution_count": 45,
   "metadata": {},
   "outputs": [
    {
     "name": "stdout",
     "output_type": "stream",
     "text": [
      "<class 'pandas.core.frame.DataFrame'>\n",
      "RangeIndex: 97 entries, 0 to 96\n",
      "Data columns (total 1 columns):\n",
      "midterm    97 non-null float64\n",
      "dtypes: float64(1)\n",
      "memory usage: 856.0 bytes\n",
      "<class 'pandas.core.frame.DataFrame'>\n",
      "Int64Index: 96 entries, 0 to 96\n",
      "Data columns (total 1 columns):\n",
      "midterm    96 non-null float64\n",
      "dtypes: float64(1)\n",
      "memory usage: 1.5 KB\n"
     ]
    }
   ],
   "source": [
    "import pandas as pd\n",
    "df_439 = pd.read_csv(\"data/CS439_grades_03_15_19.csv\")\n",
    "df_439.info()\n",
    "mid = df_439[df_439['midterm']<80]\n",
    "mid.info()"
   ]
  },
  {
   "cell_type": "markdown",
   "metadata": {},
   "source": [
    "### Activity 4.2 Predict your Grade\n",
    "Scale the values in the midterm grades of CS 439 and compute the estimated final exam grade. Note that this is probably not a very good estimator since we are trying to predict final exam just by using a midterm score. However, using more features such as labs and quiz scores can help improve the accuracy. We will do that in a future lab. The output is shown as values scaled back to percentages (100% max)"
   ]
  },
  {
   "cell_type": "code",
   "execution_count": 48,
   "metadata": {},
   "outputs": [
    {
     "name": "stdout",
     "output_type": "stream",
     "text": [
      "    midterm      final\n",
      "0     58.50  58.624958\n",
      "1     51.00  54.695862\n",
      "2     55.00  56.791380\n",
      "3     39.50  48.671249\n",
      "4     71.50  65.435390\n",
      "5     56.50  57.577199\n",
      "6     50.00  54.171983\n",
      "7     52.50  55.481681\n",
      "8     51.50  54.957802\n",
      "9     43.00  50.504827\n",
      "10    53.50  56.005561\n",
      "11    51.50  54.957802\n",
      "12    64.00  61.506294\n",
      "13    60.00  59.410777\n",
      "14    55.00  56.791380\n",
      "15    51.50  54.957802\n",
      "16    58.50  58.624958\n",
      "17    51.00  54.695862\n",
      "18    58.00  58.363018\n",
      "19    73.50  66.483149\n",
      "20    62.00  60.458536\n",
      "21    58.50  58.624958\n",
      "22    34.50  46.051852\n",
      "23    55.50  57.053320\n",
      "24    48.00  53.124224\n",
      "25    67.00  63.077933\n",
      "26    61.00  59.934656\n",
      "27    70.00  64.649571\n",
      "28    46.00  52.076465\n",
      "29    63.00  60.982415\n",
      "..      ...        ...\n",
      "66    36.50  47.099611\n",
      "67    48.00  53.124224\n",
      "68    42.00  49.980948\n",
      "69    54.00  56.267500\n",
      "70    61.00  59.934656\n",
      "71    37.50  47.623490\n",
      "72    61.00  59.934656\n",
      "73    61.00  59.934656\n",
      "74    55.50  57.053320\n",
      "75    50.00  54.171983\n",
      "76    51.50  54.957802\n",
      "77    73.00  66.221209\n",
      "78    65.50  62.292114\n",
      "79    69.00  64.125692\n",
      "80    56.00  57.315259\n",
      "81    60.00  59.410777\n",
      "82    57.00  57.839139\n",
      "83    52.50  55.481681\n",
      "84    54.75  56.660410\n",
      "85    62.00  60.458536\n",
      "86    54.50  56.529440\n",
      "87    51.50  54.957802\n",
      "88    37.00  47.361551\n",
      "89    46.50  52.338405\n",
      "90    72.00  65.697330\n",
      "91    61.50  60.196596\n",
      "92    59.50  59.148837\n",
      "93    49.50  53.910043\n",
      "94    51.00  54.695862\n",
      "95    67.00  63.077933\n",
      "\n",
      "[96 rows x 2 columns]\n"
     ]
    }
   ],
   "source": [
    "from sklearn import preprocessing\n",
    "\n",
    "## BEGIN SOLUTION\n",
    "#print(mid.head(100))\n",
    "scaler = preprocessing.MinMaxScaler()\n",
    "scaled_df = scaler.fit_transform(mid)\n",
    "scaled_df = pd.DataFrame(scaled_df, columns=['midtermScaled'])\n",
    "\n",
    "\n",
    "#scaled_values=np.asarray(scaled_df['midtermScaled'])\n",
    "#print(scaled_values)\n",
    "#predict=h(theta0,theta1,scaled_df)\n",
    "#theta=gd2(x,y,0.01,0.000001)\n",
    "lm = LinearRegression()\n",
    "result = lm.fit(x,y)\n",
    "theta0=result.intercept_\n",
    "theta1=result.coef_\n",
    "\n",
    "scaled_df['finalScaled']=h(theta0,theta1,scaled_df)\n",
    "#print(scaled_df)\n",
    "#predict_df=scaler.inverse_transform(predict)\n",
    "predict_df=scaler.inverse_transform(scaled_df)\n",
    "predict_df = pd.DataFrame(predict_df, columns=['midterm','final'])\n",
    "print(predict_df)\n",
    "#p=pd.DataFrame(predict_df)\n",
    "#result=pd.concat([mid, p], axis=1, sort=False)\n",
    "#print(result)\n",
    "\n",
    "\n",
    "\n",
    "\n",
    "    \n",
    "## END SOLUTION"
   ]
  },
  {
   "cell_type": "markdown",
   "metadata": {},
   "source": [
    "### Feedback\n",
    "Please provide feedback on this lab.\n",
    "* how would you rate this lab (from 1-10, 10-highest) : 10\n",
    "* how can we improve his lab? :"
   ]
  },
  {
   "cell_type": "markdown",
   "metadata": {},
   "source": [
    "<div class=\"alert alert-block alert-info\">\n",
    "<h2>Submission Instructions</h2> \n",
    "<b> File Name:</b> Please name the file as your_section_your_netID_lab6.jpynb<br>\n",
    "<b> Submit To: </b> Canvas &rarr; Assignments &rarr; lab6 <br>\n",
    "<b>Warning:</b> Failure to follow directions may result in loss points.<br>\n",
    "</div>"
   ]
  },
  {
   "cell_type": "markdown",
   "metadata": {},
   "source": [
    "Lab Developed by A.D. Gunawardena @ 2019 for CS 439"
   ]
  }
 ],
 "metadata": {
  "kernelspec": {
   "display_name": "Python 3",
   "language": "python",
   "name": "python3"
  },
  "language_info": {
   "codemirror_mode": {
    "name": "ipython",
    "version": 3
   },
   "file_extension": ".py",
   "mimetype": "text/x-python",
   "name": "python",
   "nbconvert_exporter": "python",
   "pygments_lexer": "ipython3",
   "version": "3.7.3"
  }
 },
 "nbformat": 4,
 "nbformat_minor": 2
}
